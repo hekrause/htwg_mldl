{
 "cells": [
  {
   "cell_type": "code",
   "execution_count": 36,
   "metadata": {},
   "outputs": [
    {
     "data": {
      "text/plain": [
       "<Figure size 1080x540 with 0 Axes>"
      ]
     },
     "metadata": {},
     "output_type": "display_data"
    }
   ],
   "source": [
    "%matplotlib inline\n",
    "import matplotlib.pyplot as plt\n",
    "import numpy as np\n",
    "import time\n",
    "\n",
    "import sys\n",
    "sys.path.insert(0,'/home/henning/git_repos/ummon3/examples')\n",
    "\n",
    "import load_mnist\n",
    "\n",
    "# Some nice default configuration for plots\n",
    "plt.rcParams['figure.figsize'] = 15, 7.5\n",
    "plt.rcParams['axes.grid'] = True\n",
    "plt.gray();"
   ]
  },
  {
   "cell_type": "code",
   "execution_count": 37,
   "metadata": {},
   "outputs": [
    {
     "name": "stdout",
     "output_type": "stream",
     "text": [
      "MNIST, Classes:     10\n",
      "Training Images:    (50000, 784)\n",
      "Validation Images:  (10000, 784)\n",
      "Test Images:        (10000, 784)\n"
     ]
    }
   ],
   "source": [
    "# read MNIST data set and scale it\n",
    "X0,y0,Xv,yv,X1,y1 = load_mnist.read([0,1,2,3,4,5,6,7,8,9], path=\"\")\n",
    "x0 = (1.0/255.0)*X0.astype('float64')\n",
    "x1 = (1.0/255.0)*X1.astype('float64')\n",
    "x2 = (1.0/255.0)*Xv.astype('float64')\n",
    "y0 = y0.astype('float64')\n",
    "y1 = y1.astype('float64')\n",
    "y2 = yv.astype('float64')"
   ]
  },
  {
   "cell_type": "code",
   "execution_count": 38,
   "metadata": {},
   "outputs": [
    {
     "data": {
      "image/png": "[encoded data removed]",
      "text/plain": [
       "<Figure size 1080x540 with 5 Axes>"
      ]
     },
     "metadata": {},
     "output_type": "display_data"
    }
   ],
   "source": [
    "def plot_gallery(data, labels, shape, interpolation='nearest'):\n",
    "    for i in range(data.shape[0]):\n",
    "        plt.subplot(1, data.shape[0], (i + 1))\n",
    "        plt.imshow(data[i].reshape(shape), interpolation=interpolation)\n",
    "        plt.title(labels[i])\n",
    "        plt.xticks(()), plt.yticks(())\n",
    "\n",
    "subsample = np.random.permutation(x0.shape[0])[:5]\n",
    "images = x0[subsample]\n",
    "labels = ['True class: %d' % np.argmax(l) for l in y0[subsample]]\n",
    "plot_gallery(images, labels, shape=(28, 28))"
   ]
  },
  {
   "cell_type": "markdown",
   "metadata": {},
   "source": [
    "Globale Arrays und Variablen des Netzwerkes:"
   ]
  },
  {
   "cell_type": "code",
   "execution_count": 39,
   "metadata": {},
   "outputs": [
    {
     "name": "stdout",
     "output_type": "stream",
     "text": [
      "(2, 2)\n"
     ]
    }
   ],
   "source": [
    "# Netzwerkparameter\n",
    "mbs =  32                    # Größe der Minibatches\n",
    "eta = 0.01                   # Lernrate\n",
    "no_hidden = 256              # Anzahl versteckter Neuronen\n",
    "epochs = 15000               # Anzahl Epochen\n",
    "sizes = [784, no_hidden, 10] # dreischichtiges MPL mit 784 Eingangs-, no_hidden versteckten, 10 Ausgangsneuronen\n",
    "num_layers = len(sizes)      # Anzahl Schichten\n",
    "\n",
    "# Arrays für Gewichte und Schwellwerte (initialisiert mit Gaußschem Rauschen)\n",
    "biases = [np.random.randn(y, 1) for y in sizes[1:]] # Schwellwerte\n",
    "weights = [np.random.randn(y, x) for x, y in zip(sizes[:-1], sizes[1:])] #Gewichte\n",
    "print(weights[1].shape)"
   ]
  },
  {
   "cell_type": "markdown",
   "metadata": {},
   "source": [
    "Einige Hilfsfunktionen:"
   ]
  },
  {
   "cell_type": "code",
   "execution_count": 40,
   "metadata": {},
   "outputs": [],
   "source": [
    "# Sigmoid (vektorisiert)\n",
    "def sigmoid(z):\n",
    "    \"\"\"The sigmoid function.\"\"\"\n",
    "    return 1.0/(1.0+np.exp(-z))\n",
    "\n",
    "# Ableitung des Sigmoids\n",
    "def sigmoid_prime(z):\n",
    "    \"\"\"Derivative of the sigmoid function.\"\"\"\n",
    "    return sigmoid(z)*(1-sigmoid(z))\n",
    "\n",
    "# Ableitung der MSE-Kostenfunktion\n",
    "def cost_derivative(output_activations, y):\n",
    "    \"\"\"Return the vector of partial derivatives \\partial C_x /\n",
    "    \\partial a for the output activations.\"\"\"\n",
    "    return (output_activations-y)"
   ]
  },
  {
   "cell_type": "markdown",
   "metadata": {},
   "source": [
    "Vorwärtslauf durch das Netzwerk für Testläufe (Prädiktion):"
   ]
  },
  {
   "cell_type": "code",
   "execution_count": 41,
   "metadata": {},
   "outputs": [],
   "source": [
    "def feedforward(a):\n",
    "    \"\"\"Return the output of the network if ``a`` is input.\"\"\"\n",
    "    for b, w in zip(biases, weights):\n",
    "        a = sigmoid(np.dot(w, a)+b)\n",
    "    return a"
   ]
  },
  {
   "cell_type": "markdown",
   "metadata": {},
   "source": [
    "Backpropagation-Algorithmus für ein Paar aus Input x und Label y:"
   ]
  },
  {
   "cell_type": "code",
   "execution_count": 42,
   "metadata": {},
   "outputs": [],
   "source": [
    "def backprop(x, y):\n",
    "    \"\"\"Return a tuple ``(nabla_b, nabla_w)`` representing the\n",
    "    gradient for the cost function C_x.  ``nabla_b`` and\n",
    "    ``nabla_w`` are layer-by-layer lists of numpy arrays, similar\n",
    "    to ``self.biases`` and ``self.weights``.\"\"\"\n",
    "    \n",
    "    # Initialisiere Updates für Schwellwerte und Gewichte\n",
    "    nabla_b = [np.zeros(b.shape) for b in biases]\n",
    "    nabla_w = [np.zeros(w.shape) for w in weights]\n",
    "    \n",
    "    # Vorwärtslauf\n",
    "    activation = x # Initialisierung a^1 = x\n",
    "    activations = [x] # list to store all the activations, layer by layer\n",
    "    zs = [] # list to store all the z vectors, layer by layer\n",
    "    for b, w in zip(biases, weights):\n",
    "        z = np.dot(w, activation) + b\n",
    "        zs.append(z)\n",
    "        activation = sigmoid(z)\n",
    "        activations.append(activation)\n",
    "    \n",
    "    # Rückwärtslauf\n",
    "    delta = cost_derivative(activations[-1], y) * sigmoid_prime(zs[-1]) # Fehler am Output\n",
    "    \n",
    "    nabla_b[-1] = delta # Update Schwellwert in der Ausgangsschicht\n",
    "    nabla_w[-1] = np.dot(delta, activations[-2].transpose()) # Update Gewichte in der Ausgangsschicht\n",
    "    \n",
    "    \n",
    "    for l in range(2, num_layers): # Backpropagation\n",
    "        z = zs[-l] # gewichteter Input\n",
    "        sp = sigmoid_prime(z) # Ableitung der Aktivierungsfunktion\n",
    "        t = np.dot(weights[-l+1].transpose(), delta)\n",
    "        delta = t * sp # Fehler in Schicht l\n",
    "        nabla_b[-l] = delta # Update Schwellwert \n",
    "        nabla_w[-l] = np.dot(delta, activations[-l-1].transpose()) # Update Gewichte\n",
    "        \n",
    "    return (nabla_b, nabla_w)"
   ]
  },
  {
   "cell_type": "markdown",
   "metadata": {},
   "source": [
    "Gemitteltes Update über einen Minibatch:"
   ]
  },
  {
   "cell_type": "code",
   "execution_count": 43,
   "metadata": {},
   "outputs": [],
   "source": [
    "def update_mini_batch(xmb, ymb, eta):\n",
    "    \"\"\"Update the network's weights and biases by applying\n",
    "    gradient descent using backpropagation to a single mini batch.\n",
    "    The ``mini_batch`` is a list of tuples ``(x, y)``, and ``eta``\n",
    "    is the learning rate.\"\"\"\n",
    "    global weights\n",
    "    global biases\n",
    "\n",
    "    # Initialisiere Updates für Schwellwerte und Gewichte\n",
    "    nabla_b = [np.zeros(b.shape) for b in biases]\n",
    "    nabla_w = [np.zeros(w.shape) for w in weights]\n",
    "    \n",
    "    # Gehe durch alle Beispielpaare im Minibatch\n",
    "    for i in range(xmb.shape[0]):\n",
    "        x = np.reshape(xmb[i,:],(xmb.shape[1],1)).copy()\n",
    "        if len(ymb.shape) == 2:\n",
    "            y = np.reshape(ymb[i,:],(ymb.shape[1],1)).copy()\n",
    "        else:\n",
    "            y = ymb[i].copy()\n",
    "        \n",
    "        # Berechne Updates für alle Schichten über Backprop\n",
    "        delta_nabla_b, delta_nabla_w = backprop(x, y)\n",
    "        \n",
    "        # Addiere einzelne Updates auf\n",
    "        nabla_b = [nb+dnb for nb, dnb in zip(nabla_b, delta_nabla_b)]\n",
    "        nabla_w = [nw+dnw for nw, dnw in zip(nabla_w, delta_nabla_w)]\n",
    "    \n",
    "    # Berechne neue Gewichte\n",
    "    weights = [w-(eta/xmb.shape[0])*nw for w, nw in zip(weights, nabla_w)]\n",
    "    biases = [b-(eta/xmb.shape[0])*nb for b, nb in zip(biases, nabla_b)]\n",
    "    \n",
    "    return (weights, biases)"
   ]
  },
  {
   "cell_type": "markdown",
   "metadata": {},
   "source": [
    "Hilfsfunktion zur Evaluation des Netzwerkes auf den Testdaten:"
   ]
  },
  {
   "cell_type": "code",
   "execution_count": 44,
   "metadata": {},
   "outputs": [],
   "source": [
    "def evaluate(x2, y2):\n",
    "    \"\"\"Return the number of test inputs for which the neural\n",
    "    network outputs the correct result. Note that the neural\n",
    "    network's output is assumed to be the index of whichever\n",
    "    neuron in the final layer has the highest activation.\"\"\"\n",
    "    \n",
    "    correct = 0 # Anzahl korrekt klassifizierter Testbeispiele\n",
    "    \n",
    "    # Gehe den Testdatensatz durch\n",
    "    for i in range(0, x2.shape[0]):\n",
    "        x = np.reshape(x2[i,:],(x2.shape[1],1)).copy()\n",
    "        if len(y2.shape) == 2:\n",
    "            y = np.reshape(y2[i,:],(y2.shape[1],1)).copy()\n",
    "        else:\n",
    "            y = y2[i].copy()\n",
    "        \n",
    "        # Vorwärtslauf\n",
    "        ypred = feedforward(x)\n",
    "        \n",
    "        # Label ist in one-hot-Codierung: korrekte Klasse ist 1, alle anderen 0\n",
    "        c = np.argmax(y)\n",
    "        \n",
    "        # Index des maximal aktivierten Outputs ist die Entscheidung des Netzwerk\n",
    "        cpred = np.argmax(ypred)\n",
    "        \n",
    "        # Falls beide übereinstimmen, addiere zur Gesamtzahl\n",
    "        if c == cpred:\n",
    "            correct += 1\n",
    "        \n",
    "    return correct"
   ]
  },
  {
   "cell_type": "markdown",
   "metadata": {},
   "source": [
    "Stochastischer Gradientenabstieg:"
   ]
  },
  {
   "cell_type": "code",
   "execution_count": 45,
   "metadata": {},
   "outputs": [],
   "source": [
    "def SGD(x0, y0, epochs, mini_batch_size, eta, x2, y2):\n",
    "\n",
    "    n_test = x2.shape[0] # Anzahl Testdaten\n",
    "    n = x0.shape[0]      # Anzahl Trainingsdaten\n",
    "    \n",
    "    # gehe durch alle Epochen\n",
    "    accuracys = np.zeros(epochs)\n",
    "    for j in range(epochs):\n",
    "        \n",
    "        # Bringe die Trainingsdaten in eine zufällige Reihenfolge für jede Epoche\n",
    "        p = np.random.permutation(n) # Zufällige Permutation aller Indizes von 0 .. n-1\n",
    "        x0 = x0[p,:]\n",
    "        y0 = y0[p]\n",
    "        \n",
    "        # Zerlege den permutierten Datensatz in Minibatches \n",
    "        for k in range(0, n, mini_batch_size):\n",
    "            xmb = x0[k:k+mini_batch_size,:]\n",
    "            if len(y0.shape) == 2:\n",
    "                ymb = y0[k:k+mini_batch_size,:]\n",
    "            else:\n",
    "                ymb = y0[k:k+mini_batch_size]\n",
    "            update_mini_batch(xmb, ymb, eta)\n",
    "        \n",
    "        # Gib Performance aus\n",
    "        accuracys[j] = evaluate(x2, y2)\n",
    "        improvement = (accuracys[j] - accuracys[max(j - 1, 0)])\n",
    "        improvement_percent = (improvement / accuracys[max(j - 1, 0)]) * 100\n",
    "        print(\"Epoch {}: {} / {}, improvement: {:.2f}% / {}\".format(j, accuracys[j], len(x2), improvement_percent, improvement))\n",
    "    \n",
    "    return accuracys"
   ]
  },
  {
   "cell_type": "markdown",
   "metadata": {},
   "source": [
    "Training:"
   ]
  },
  {
   "cell_type": "code",
   "execution_count": 46,
   "metadata": {},
   "outputs": [
    {
     "ename": "ValueError",
     "evalue": "operands could not be broadcast together with shapes (2,1) (10,1) ",
     "output_type": "error",
     "traceback": [
      "\u001b[0;31m---------------------------------------------------------------------------\u001b[0m",
      "\u001b[0;31mValueError\u001b[0m                                Traceback (most recent call last)",
      "\u001b[0;32m<ipython-input-46-4a7190039f7d>\u001b[0m in \u001b[0;36m<module>\u001b[0;34m\u001b[0m\n\u001b[1;32m      1\u001b[0m \u001b[0mstart\u001b[0m \u001b[0;34m=\u001b[0m \u001b[0mtime\u001b[0m\u001b[0;34m.\u001b[0m\u001b[0mtime\u001b[0m\u001b[0;34m(\u001b[0m\u001b[0;34m)\u001b[0m\u001b[0;34m\u001b[0m\u001b[0;34m\u001b[0m\u001b[0m\n\u001b[0;32m----> 2\u001b[0;31m \u001b[0maccuracys\u001b[0m \u001b[0;34m=\u001b[0m \u001b[0mSGD\u001b[0m\u001b[0;34m(\u001b[0m\u001b[0mx0\u001b[0m\u001b[0;34m,\u001b[0m \u001b[0my0\u001b[0m\u001b[0;34m,\u001b[0m \u001b[0mepochs\u001b[0m\u001b[0;34m,\u001b[0m \u001b[0mmbs\u001b[0m\u001b[0;34m,\u001b[0m \u001b[0meta\u001b[0m\u001b[0;34m,\u001b[0m \u001b[0mx2\u001b[0m\u001b[0;34m,\u001b[0m \u001b[0my2\u001b[0m\u001b[0;34m)\u001b[0m\u001b[0;34m\u001b[0m\u001b[0;34m\u001b[0m\u001b[0m\n\u001b[0m\u001b[1;32m      3\u001b[0m \u001b[0mstop\u001b[0m \u001b[0;34m=\u001b[0m \u001b[0mtime\u001b[0m\u001b[0;34m.\u001b[0m\u001b[0mtime\u001b[0m\u001b[0;34m(\u001b[0m\u001b[0;34m)\u001b[0m\u001b[0;34m\u001b[0m\u001b[0;34m\u001b[0m\u001b[0m\n\u001b[1;32m      4\u001b[0m \u001b[0mprint\u001b[0m\u001b[0;34m(\u001b[0m\u001b[0;34m\"Elapsed time: {}\"\u001b[0m\u001b[0;34m.\u001b[0m\u001b[0mformat\u001b[0m\u001b[0;34m(\u001b[0m\u001b[0mstop\u001b[0m \u001b[0;34m-\u001b[0m \u001b[0mstart\u001b[0m\u001b[0;34m)\u001b[0m\u001b[0;34m)\u001b[0m\u001b[0;34m\u001b[0m\u001b[0;34m\u001b[0m\u001b[0m\n",
      "\u001b[0;32m<ipython-input-45-c0bf527f06e9>\u001b[0m in \u001b[0;36mSGD\u001b[0;34m(x0, y0, epochs, mini_batch_size, eta, x2, y2)\u001b[0m\n\u001b[1;32m     20\u001b[0m             \u001b[0;32melse\u001b[0m\u001b[0;34m:\u001b[0m\u001b[0;34m\u001b[0m\u001b[0;34m\u001b[0m\u001b[0m\n\u001b[1;32m     21\u001b[0m                 \u001b[0mymb\u001b[0m \u001b[0;34m=\u001b[0m \u001b[0my0\u001b[0m\u001b[0;34m[\u001b[0m\u001b[0mk\u001b[0m\u001b[0;34m:\u001b[0m\u001b[0mk\u001b[0m\u001b[0;34m+\u001b[0m\u001b[0mmini_batch_size\u001b[0m\u001b[0;34m]\u001b[0m\u001b[0;34m\u001b[0m\u001b[0;34m\u001b[0m\u001b[0m\n\u001b[0;32m---> 22\u001b[0;31m             \u001b[0mupdate_mini_batch\u001b[0m\u001b[0;34m(\u001b[0m\u001b[0mxmb\u001b[0m\u001b[0;34m,\u001b[0m \u001b[0mymb\u001b[0m\u001b[0;34m,\u001b[0m \u001b[0meta\u001b[0m\u001b[0;34m)\u001b[0m\u001b[0;34m\u001b[0m\u001b[0;34m\u001b[0m\u001b[0m\n\u001b[0m\u001b[1;32m     23\u001b[0m \u001b[0;34m\u001b[0m\u001b[0m\n\u001b[1;32m     24\u001b[0m         \u001b[0;31m# Gib Performance aus\u001b[0m\u001b[0;34m\u001b[0m\u001b[0;34m\u001b[0m\u001b[0;34m\u001b[0m\u001b[0m\n",
      "\u001b[0;32m<ipython-input-43-187c81101fc4>\u001b[0m in \u001b[0;36mupdate_mini_batch\u001b[0;34m(xmb, ymb, eta)\u001b[0m\n\u001b[1;32m     20\u001b[0m \u001b[0;34m\u001b[0m\u001b[0m\n\u001b[1;32m     21\u001b[0m         \u001b[0;31m# Berechne Updates für alle Schichten über Backprop\u001b[0m\u001b[0;34m\u001b[0m\u001b[0;34m\u001b[0m\u001b[0;34m\u001b[0m\u001b[0m\n\u001b[0;32m---> 22\u001b[0;31m         \u001b[0mdelta_nabla_b\u001b[0m\u001b[0;34m,\u001b[0m \u001b[0mdelta_nabla_w\u001b[0m \u001b[0;34m=\u001b[0m \u001b[0mbackprop\u001b[0m\u001b[0;34m(\u001b[0m\u001b[0mx\u001b[0m\u001b[0;34m,\u001b[0m \u001b[0my\u001b[0m\u001b[0;34m)\u001b[0m\u001b[0;34m\u001b[0m\u001b[0;34m\u001b[0m\u001b[0m\n\u001b[0m\u001b[1;32m     23\u001b[0m \u001b[0;34m\u001b[0m\u001b[0m\n\u001b[1;32m     24\u001b[0m         \u001b[0;31m# Addiere einzelne Updates auf\u001b[0m\u001b[0;34m\u001b[0m\u001b[0;34m\u001b[0m\u001b[0;34m\u001b[0m\u001b[0m\n",
      "\u001b[0;32m<ipython-input-42-902d3958c2aa>\u001b[0m in \u001b[0;36mbackprop\u001b[0;34m(x, y)\u001b[0m\n\u001b[1;32m     20\u001b[0m \u001b[0;34m\u001b[0m\u001b[0m\n\u001b[1;32m     21\u001b[0m     \u001b[0;31m# Rückwärtslauf\u001b[0m\u001b[0;34m\u001b[0m\u001b[0;34m\u001b[0m\u001b[0;34m\u001b[0m\u001b[0m\n\u001b[0;32m---> 22\u001b[0;31m     \u001b[0mdelta\u001b[0m \u001b[0;34m=\u001b[0m \u001b[0mcost_derivative\u001b[0m\u001b[0;34m(\u001b[0m\u001b[0mactivations\u001b[0m\u001b[0;34m[\u001b[0m\u001b[0;34m-\u001b[0m\u001b[0;36m1\u001b[0m\u001b[0;34m]\u001b[0m\u001b[0;34m,\u001b[0m \u001b[0my\u001b[0m\u001b[0;34m)\u001b[0m \u001b[0;34m*\u001b[0m \u001b[0msigmoid_prime\u001b[0m\u001b[0;34m(\u001b[0m\u001b[0mzs\u001b[0m\u001b[0;34m[\u001b[0m\u001b[0;34m-\u001b[0m\u001b[0;36m1\u001b[0m\u001b[0;34m]\u001b[0m\u001b[0;34m)\u001b[0m \u001b[0;31m# Fehler am Output\u001b[0m\u001b[0;34m\u001b[0m\u001b[0;34m\u001b[0m\u001b[0m\n\u001b[0m\u001b[1;32m     23\u001b[0m \u001b[0;34m\u001b[0m\u001b[0m\n\u001b[1;32m     24\u001b[0m     \u001b[0mnabla_b\u001b[0m\u001b[0;34m[\u001b[0m\u001b[0;34m-\u001b[0m\u001b[0;36m1\u001b[0m\u001b[0;34m]\u001b[0m \u001b[0;34m=\u001b[0m \u001b[0mdelta\u001b[0m \u001b[0;31m# Update Schwellwert in der Ausgangsschicht\u001b[0m\u001b[0;34m\u001b[0m\u001b[0;34m\u001b[0m\u001b[0m\n",
      "\u001b[0;32m<ipython-input-40-e0ed169b63b8>\u001b[0m in \u001b[0;36mcost_derivative\u001b[0;34m(output_activations, y)\u001b[0m\n\u001b[1;32m     13\u001b[0m     \"\"\"Return the vector of partial derivatives \\partial C_x /\n\u001b[1;32m     14\u001b[0m     \\partial a for the output activations.\"\"\"\n\u001b[0;32m---> 15\u001b[0;31m     \u001b[0;32mreturn\u001b[0m \u001b[0;34m(\u001b[0m\u001b[0moutput_activations\u001b[0m\u001b[0;34m-\u001b[0m\u001b[0my\u001b[0m\u001b[0;34m)\u001b[0m\u001b[0;34m\u001b[0m\u001b[0;34m\u001b[0m\u001b[0m\n\u001b[0m",
      "\u001b[0;31mValueError\u001b[0m: operands could not be broadcast together with shapes (2,1) (10,1) "
     ]
    }
   ],
   "source": [
    "start = time.time()\n",
    "accuracys = SGD(x0, y0, epochs, mbs, eta, x2, y2)\n",
    "stop = time.time()\n",
    "print(\"Elapsed time: {}\".format(stop - start))"
   ]
  },
  {
   "cell_type": "markdown",
   "metadata": {
    "collapsed": true
   },
   "source": [
    "Evaluation auf den unabhängigen Testdaten:"
   ]
  },
  {
   "cell_type": "code",
   "execution_count": null,
   "metadata": {},
   "outputs": [],
   "source": [
    "print(\"Test accuracy: {0} / {1}\".format(evaluate(x1, y1), x1.shape[0]))"
   ]
  },
  {
   "cell_type": "markdown",
   "metadata": {},
   "source": [
    "Lernkurve (Genauigkeit auf Validierungsdatensatz):"
   ]
  },
  {
   "cell_type": "code",
   "execution_count": null,
   "metadata": {},
   "outputs": [],
   "source": [
    "plt.plot(accuracys/x2.shape[0]);"
   ]
  },
  {
   "cell_type": "markdown",
   "metadata": {},
   "source": [
    "Trainierte rezeptive Felder:"
   ]
  },
  {
   "cell_type": "code",
   "execution_count": null,
   "metadata": {},
   "outputs": [],
   "source": [
    "labels = range(no_hidden)\n",
    "plot_gallery(weights[0][:15,:],labels, shape=(28, 28))"
   ]
  },
  {
   "cell_type": "code",
   "execution_count": null,
   "metadata": {},
   "outputs": [],
   "source": [
    "labels = range(no_hidden)\n",
    "plot_gallery(weights[1],labels, shape=(no_hidden,1))"
   ]
  },
  {
   "cell_type": "code",
   "execution_count": null,
   "metadata": {},
   "outputs": [],
   "source": []
  }
 ],
 "metadata": {
  "kernelspec": {
   "display_name": "Python 3",
   "language": "python",
   "name": "python3"
  },
  "language_info": {
   "codemirror_mode": {
    "name": "ipython",
    "version": 3
   },
   "file_extension": ".py",
   "mimetype": "text/x-python",
   "name": "python",
   "nbconvert_exporter": "python",
   "pygments_lexer": "ipython3",
   "version": "3.7.4"
  }
 },
 "nbformat": 4,
 "nbformat_minor": 2
}
