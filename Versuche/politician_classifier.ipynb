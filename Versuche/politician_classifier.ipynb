{
 "cells": [
  {
   "cell_type": "code",
   "execution_count": 1,
   "metadata": {},
   "outputs": [],
   "source": [
    "import numpy as np\n",
    "import time\n",
    "import torch\n",
    "import torchvision\n",
    "from torch.utils.data import Dataset, DataLoader\n",
    "import torchvision.transforms as transforms\n",
    "import torch.nn as nn\n",
    "import torch.nn.functional as F\n",
    "import torch.optim as optim\n",
    "import matplotlib.pyplot as plt"
   ]
  },
  {
   "cell_type": "code",
   "execution_count": 11,
   "metadata": {},
   "outputs": [],
   "source": [
    "class PoliticiansFaceDataset(Dataset):\n",
    "    def __init__(self, path, classes, transform=None):\n",
    "        self.X = np.load(\"{}/X.npy\".format(path))\n",
    "        self.Y = np.load(\"{}/Y.npy\".format(path))\n",
    "        self.X = np.asarray(self.X, dtype=np.float)\n",
    "        \n",
    "        print(self.X.shape, self.Y.shape)\n",
    "        self.X = self.X[:2880]\n",
    "        self.Y = self.Y[:2880]\n",
    "        print(self.X.shape, self.Y.shape)\n",
    "        \n",
    "        Y_tmp = np.zeros(shape=(len(self.Y)), dtype=np.int)\n",
    "        for i in range(len(self.Y)):\n",
    "            for j, clas_s in enumerate(classes):\n",
    "                if Y_tmp[i] == clas_s:\n",
    "                    Y_tmp[i] = j\n",
    "                    break\n",
    "\n",
    "        self.Y = Y_tmp \n",
    "        self.transform = transform\n",
    "        \n",
    "    def __len__(self):\n",
    "        return len(self.X)\n",
    "    \n",
    "    def __getitem__(self, idx):       \n",
    "        if self.transform:\n",
    "            return self.transform(self.X[idx]), self.Y[idx]\n",
    "        else:\n",
    "            return self.X[idx], self.Y[idx]"
   ]
  },
  {
   "cell_type": "code",
   "execution_count": 12,
   "metadata": {},
   "outputs": [],
   "source": [
    "class Net(nn.Module):\n",
    "    def __init__(self):\n",
    "        super(Net, self).__init__()\n",
    "        self.pool = nn.MaxPool2d(2, 2)\n",
    "        self.conv1 = nn.Conv2d(3, 16, 5)\n",
    "        self.conv2 = nn.Conv2d(16, 32, 5)\n",
    "        self.fc1 = nn.Linear(32 * 61 * 61, 512)\n",
    "        self.fc2 = nn.Linear(512, 64)\n",
    "        self.fc3 = nn.Linear(64, 2)\n",
    "\n",
    "    def forward(self, x):\n",
    "        x = x.float()\n",
    "        x = F.relu(self.conv1(x))\n",
    "        x = self.pool(x)\n",
    "        x = F.relu(self.conv2(x))\n",
    "        x = self.pool(x)\n",
    "        x = x.view(-1, 32 * 61 * 61)\n",
    "        x = F.relu(self.fc1(x))\n",
    "        x = F.relu(self.fc2(x))\n",
    "        x = self.fc3(x)\n",
    "        return x"
   ]
  },
  {
   "cell_type": "code",
   "execution_count": 13,
   "metadata": {},
   "outputs": [
    {
     "name": "stdout",
     "output_type": "stream",
     "text": [
      "(2932, 256, 256, 3) (2932,)\n",
      "(2880, 256, 256, 3) (2880,)\n"
     ]
    }
   ],
   "source": [
    "batchsize = 4\n",
    "lr = 0.001\n",
    "momentum = 0.9\n",
    "n_epoch = 10\n",
    "divisor = 10\n",
    "\n",
    "net = Net().to('cuda')\n",
    "criterion = nn.CrossEntropyLoss()\n",
    "optimizer = optim.Adam(net.parameters(), lr=lr)\n",
    "\n",
    "transform = transforms.Compose(\n",
    "    [transforms.ToTensor(),\n",
    "     transforms.Normalize((0.5, 0.5, 0.5), (0.5, 0.5, 0.5))])\n",
    "\n",
    "datapath = \"/home/henning/git_repos/htwg_mldl/Versuche/data/PoliticiansFace/just_faces\"\n",
    "classes = (\"Donald Trump\", \"Barack Obama\", \"Michelle Obama\", \"Joe Biden\", \"Melania Trump\", \"Ivanka Trump\")\n",
    "politicianface_dataset = PoliticiansFaceDataset(datapath, classes, transform=transform)\n",
    "dataset_size = len(politicianface_dataset)\n",
    "\n",
    "trainloader = DataLoader(politicianface_dataset, \n",
    "                         shuffle=True, \n",
    "                         batch_size=batchsize, \n",
    "                         num_workers=4)"
   ]
  },
  {
   "cell_type": "code",
   "execution_count": 5,
   "metadata": {},
   "outputs": [
    {
     "name": "stdout",
     "output_type": "stream",
     "text": [
      "epoch: 1, loss: 0.492, elapsed time: 0:01:07, time/epoch: 0:01:07\n",
      "Accuracy of Donald Trump : 100 %\n"
     ]
    },
    {
     "ename": "ZeroDivisionError",
     "evalue": "float division by zero",
     "output_type": "error",
     "traceback": [
      "\u001b[0;31m---------------------------------------------------------------------------\u001b[0m",
      "\u001b[0;31mZeroDivisionError\u001b[0m                         Traceback (most recent call last)",
      "\u001b[0;32m<ipython-input-5-e24098397ebc>\u001b[0m in \u001b[0;36m<module>\u001b[0;34m\u001b[0m\n\u001b[1;32m     45\u001b[0m \u001b[0;34m\u001b[0m\u001b[0m\n\u001b[1;32m     46\u001b[0m         \u001b[0;32mfor\u001b[0m \u001b[0mi\u001b[0m \u001b[0;32min\u001b[0m \u001b[0mrange\u001b[0m\u001b[0;34m(\u001b[0m\u001b[0mlen\u001b[0m\u001b[0;34m(\u001b[0m\u001b[0mclasses\u001b[0m\u001b[0;34m)\u001b[0m\u001b[0;34m)\u001b[0m\u001b[0;34m:\u001b[0m\u001b[0;34m\u001b[0m\u001b[0;34m\u001b[0m\u001b[0m\n\u001b[0;32m---> 47\u001b[0;31m             \u001b[0mprint\u001b[0m\u001b[0;34m(\u001b[0m\u001b[0;34m'Accuracy of %5s : %2d %%'\u001b[0m \u001b[0;34m%\u001b[0m \u001b[0;34m(\u001b[0m\u001b[0mclasses\u001b[0m\u001b[0;34m[\u001b[0m\u001b[0mi\u001b[0m\u001b[0;34m]\u001b[0m\u001b[0;34m,\u001b[0m \u001b[0;36m100\u001b[0m \u001b[0;34m*\u001b[0m \u001b[0mclass_correct\u001b[0m\u001b[0;34m[\u001b[0m\u001b[0mi\u001b[0m\u001b[0;34m]\u001b[0m \u001b[0;34m/\u001b[0m \u001b[0mclass_total\u001b[0m\u001b[0;34m[\u001b[0m\u001b[0mi\u001b[0m\u001b[0;34m]\u001b[0m\u001b[0;34m)\u001b[0m\u001b[0;34m)\u001b[0m\u001b[0;34m\u001b[0m\u001b[0;34m\u001b[0m\u001b[0m\n\u001b[0m\u001b[1;32m     48\u001b[0m         \u001b[0mprint\u001b[0m\u001b[0;34m(\u001b[0m\u001b[0;34m)\u001b[0m\u001b[0;34m\u001b[0m\u001b[0;34m\u001b[0m\u001b[0m\n\u001b[1;32m     49\u001b[0m \u001b[0;34m\u001b[0m\u001b[0m\n",
      "\u001b[0;31mZeroDivisionError\u001b[0m: float division by zero"
     ]
    }
   ],
   "source": [
    "start = time.time()\n",
    "for epoch in range(n_epoch):\n",
    "    running_loss = 0.0\n",
    "    for i, data in enumerate(trainloader, 0):\n",
    "        inputs, labels = data\n",
    "        inputs = inputs.to('cuda')\n",
    "        labels = labels.to('cuda')\n",
    "        optimizer.zero_grad()\n",
    "        outputs = net(inputs).to('cuda')\n",
    "        loss = criterion(outputs, labels).to('cuda')\n",
    "        loss.backward()\n",
    "        optimizer.step()\n",
    "        running_loss += loss.item()\n",
    "    \n",
    "    if (epoch % divisor) == 0:\n",
    "        class_correct = list(0. for i in range(len(classes)))\n",
    "        class_total = list(0. for i in range(len(classes)))\n",
    "        with torch.no_grad():\n",
    "            for data in trainloader:\n",
    "                images, true_labels = data\n",
    "                images = images.to('cuda')\n",
    "                true_labels = true_labels.to('cuda')\n",
    "                outputs = net(images).to('cuda')\n",
    "                _, predicted = torch.max(outputs, 1)\n",
    "                c = (predicted == true_labels).squeeze()\n",
    "\n",
    "                for i in range(batchsize):\n",
    "                    label = true_labels[i]\n",
    "                    class_correct[label] += c[i].item()\n",
    "                    class_total[label] += 1\n",
    "                \n",
    "        elapsed = (time.time() - start)\n",
    "        e_h = int(elapsed // 3600)\n",
    "        e_min = int((elapsed - (e_h * 3600)) // 60)\n",
    "        e_sec = int(elapsed - (e_h * 3600) - (e_min * 60))\n",
    "        t = \"elapsed time: {}:{:02d}:{:02d}\".format(e_h, e_min, e_sec)\n",
    "        \n",
    "        elapsed /= epoch + 1\n",
    "        e_h = int(elapsed // 3600)\n",
    "        e_min = int((elapsed - (e_h * 3600)) // 60)\n",
    "        e_sec = int(elapsed - (e_h * 3600) - (e_min * 60))\n",
    "        te = \"time/epoch: {}:{:02d}:{:02d}\".format(e_h, e_min, e_sec)\n",
    "        \n",
    "        print(\"epoch: {:d}, loss: {:.3f}, {}, {}\".format(epoch + 1, running_loss / divisor, t, te))\n",
    "        \n",
    "        for i in range(len(classes)):\n",
    "            if class_total[i] > 0:\n",
    "                print('Accuracy of %5s : %2d %%' % (classes[i], 100 * class_correct[i] / class_total[i]))\n",
    "            else:\n",
    "                print('Accuracy of %5s : %2d %%' % (classes[i], 0))\n",
    "        print()\n",
    "        \n",
    "        running_loss = 0.0\n",
    "print('Finished Training')"
   ]
  },
  {
   "cell_type": "code",
   "execution_count": null,
   "metadata": {},
   "outputs": [],
   "source": []
  }
 ],
 "metadata": {
  "kernelspec": {
   "display_name": "Python 3",
   "language": "python",
   "name": "python3"
  },
  "language_info": {
   "codemirror_mode": {
    "name": "ipython",
    "version": 3
   },
   "file_extension": ".py",
   "mimetype": "text/x-python",
   "name": "python",
   "nbconvert_exporter": "python",
   "pygments_lexer": "ipython3",
   "version": "3.6.9"
  }
 },
 "nbformat": 4,
 "nbformat_minor": 2
}
