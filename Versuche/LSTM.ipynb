{
 "cells": [
  {
   "cell_type": "code",
   "execution_count": 39,
   "metadata": {},
   "outputs": [],
   "source": [
    "import torch\n",
    "\n",
    "import numpy as np\n",
    "import torch.nn as nn\n",
    "import torch.nn.functional as F\n",
    "\n",
    "from torch.optim import Adam\n",
    "from torchsummaryX import summary"
   ]
  },
  {
   "cell_type": "code",
   "execution_count": 40,
   "metadata": {},
   "outputs": [],
   "source": [
    "class LSTMModel(nn.Module):\n",
    "    def __init__(self, in_dim, hidden_dim, layers, out_dim, batch_size, seq_len, device):\n",
    "        super(LSTMModel, self).__init__()\n",
    "        self.to(device)\n",
    "        \n",
    "        self.in_dim = in_dim\n",
    "        self.hidden_dim = hidden_dim\n",
    "        self.layers = layers\n",
    "        self.out_dim = out_dim\n",
    "        self.batch_size = batch_size\n",
    "        self.seq_len = seq_len\n",
    "        self.device = device\n",
    "        \n",
    "        self.init_states()\n",
    "        self.lstm = nn.LSTM(in_dim, hidden_dim, layers, batch_first=True)\n",
    "        self.fc = nn.Linear(hidden_dim, out_dim)\n",
    "        \n",
    "    def forward(self, inputs):\n",
    "        hidden = (self.hidden.requires_grad_().detach(), self.cell.requires_grad_().detach())\n",
    "        output, (self.hidden, self.cell) = self.lstm(inputs, hidden)\n",
    "        output = self.fc(output)\n",
    "        return output[:, -1]\n",
    "    \n",
    "    def init_states(self):\n",
    "        self.hidden = torch.zeros(self.layers, self.batch_size, self.hidden_dim).to(self.device)\n",
    "        self.cell = torch.zeros(self.layers, self.batch_size, self.hidden_dim).to(self.device)"
   ]
  },
  {
   "cell_type": "code",
   "execution_count": 46,
   "metadata": {},
   "outputs": [
    {
     "name": "stdout",
     "output_type": "stream",
     "text": [
      "===================================================\n",
      "       Kernel Shape Output Shape  Params  Mult-Adds\n",
      "Layer                                              \n",
      "0_lstm            -  [8, 14, 25]   14100      13500\n",
      "1_fc        [25, 1]   [8, 14, 1]      26         25\n",
      "---------------------------------------------------\n",
      "                      Totals\n",
      "Total params           14126\n",
      "Trainable params       14126\n",
      "Non-trainable params       0\n",
      "Mult-Adds              13525\n",
      "===================================================\n"
     ]
    }
   ],
   "source": [
    "lr = 0.001\n",
    "n = 312\n",
    "in_dim = 10\n",
    "hidden_dim = 25\n",
    "layers = 3\n",
    "out_dim = 1\n",
    "epochs = 100\n",
    "batch_size = 8\n",
    "seq_len = 14\n",
    "\n",
    "device = \"cuda\" if torch.cuda.is_available() else \"cpu\"\n",
    "\n",
    "lstm = LSTMModel(in_dim, hidden_dim, layers, out_dim, batch_size, seq_len, device)\n",
    "optimizer = Adam(lstm.parameters(), lr=lr)\n",
    "loss_criterion = nn.MSELoss()\n",
    "\n",
    "summary(lstm, torch.randn(batch_size, seq_len, in_dim));"
   ]
  },
  {
   "cell_type": "code",
   "execution_count": 47,
   "metadata": {},
   "outputs": [],
   "source": [
    "xdata1 = np.zeros(shape=(n, in_dim))\n",
    "ydata1 = np.zeros(shape=(n, out_dim))\n",
    "#print(xdata1.shape, ydata1.shape)\n",
    "for i in range(n):\n",
    "    # Insert data here\n",
    "    xdata1[i] = np.random.randint(0, 100, size=in_dim)\n",
    "    ydata1[i] = np.random.randint(0, 100, size=out_dim)\n",
    "\n",
    "n2 = int(n/seq_len)\n",
    "xdata2 = np.zeros(shape=(n2, seq_len, in_dim))\n",
    "ydata2 = np.zeros(shape=(n2, seq_len, out_dim))\n",
    "#print(xdata2.shape, ydata2.shape)\n",
    "for i in range(0, n2, seq_len):\n",
    "    xdata2[i] = xdata1[i:i + seq_len]\n",
    "    ydata2[i] = ydata1[i:i + seq_len]\n",
    "\n",
    "n3 = int(n2/batch_size)\n",
    "xdata = np.zeros(shape=(n3, batch_size, seq_len, in_dim))\n",
    "ydata = np.zeros(shape=(n3, batch_size, seq_len, out_dim))\n",
    "#print(xdata.shape, ydata.shape)\n",
    "for i in range(0, n3, batch_size):\n",
    "    xdata[i] = xdata2[i:i + batch_size]\n",
    "    ydata[i] = ydata2[i:i + batch_size]\n",
    "    \n",
    "#x = torch.tensor(xdata, requires_grad=True).float()\n",
    "#y = torch.tensor(ydata, requires_grad=True).float()\n",
    "#print(x.shape, y.shape)\n",
    "#split = int(0.5 * n3)\n",
    "#x0 = x[:split]\n",
    "#y0 = y[:split]\n",
    "#x2 = x[split:]\n",
    "#y2 = y[split:]"
   ]
  },
  {
   "cell_type": "code",
   "execution_count": 48,
   "metadata": {},
   "outputs": [
    {
     "name": "stdout",
     "output_type": "stream",
     "text": [
      "torch.Size([312, 8, 14, 10]) torch.Size([312, 8, 14, 1])\n"
     ]
    }
   ],
   "source": [
    "x = torch.randn(n, batch_size, seq_len, in_dim)\n",
    "y = torch.randn(n, batch_size, seq_len, out_dim)\n",
    "print(x.shape, y.shape)\n",
    "split = int(0.5 * n)\n",
    "x0 = x[:split]\n",
    "y0 = y[:split]\n",
    "x2 = x[split:]\n",
    "y2 = y[split:]"
   ]
  },
  {
   "cell_type": "code",
   "execution_count": 49,
   "metadata": {},
   "outputs": [
    {
     "name": "stdout",
     "output_type": "stream",
     "text": [
      "Epoch: 0/100, Test-Loss: 162.17049928754568, Train-Loss: 154.34604102373123\n",
      "Epoch: 1/100, Test-Loss: 161.39072385430336, Train-Loss: 154.4379250407219\n",
      "Epoch: 2/100, Test-Loss: 161.31980746239424, Train-Loss: 154.2151316702366\n",
      "Epoch: 3/100, Test-Loss: 162.16256911307573, Train-Loss: 153.932579100132\n",
      "Epoch: 4/100, Test-Loss: 171.93123262375593, Train-Loss: 153.11042115092278\n",
      "Epoch: 5/100, Test-Loss: 168.83581674098969, Train-Loss: 152.4992038309574\n",
      "Epoch: 6/100, Test-Loss: 172.69556568562984, Train-Loss: 151.44911602139473\n",
      "Epoch: 7/100, Test-Loss: 176.2142222672701, Train-Loss: 149.8959027826786\n",
      "Epoch: 8/100, Test-Loss: 180.89098870754242, Train-Loss: 147.32427328824997\n",
      "Epoch: 9/100, Test-Loss: 184.18584670126438, Train-Loss: 144.33093231916428\n",
      "Epoch: 10/100, Test-Loss: 189.22320821881294, Train-Loss: 140.78379474580288\n",
      "Epoch: 11/100, Test-Loss: 198.01893976330757, Train-Loss: 135.01023618876934\n",
      "Epoch: 12/100, Test-Loss: 199.78949935734272, Train-Loss: 129.14236782491207\n",
      "Epoch: 13/100, Test-Loss: 208.56715190410614, Train-Loss: 122.57397187501192\n",
      "Epoch: 14/100, Test-Loss: 208.18423771858215, Train-Loss: 119.09392866492271\n",
      "Epoch: 15/100, Test-Loss: 215.98447470366955, Train-Loss: 112.88965865969658\n",
      "Epoch: 16/100, Test-Loss: 215.18153186142445, Train-Loss: 105.79284755885601\n",
      "Epoch: 17/100, Test-Loss: 219.50269797444344, Train-Loss: 97.59955850243568\n",
      "Epoch: 18/100, Test-Loss: 216.19501876831055, Train-Loss: 91.97493385523558\n",
      "Epoch: 19/100, Test-Loss: 219.930039614439, Train-Loss: 85.46216163039207\n",
      "Epoch: 20/100, Test-Loss: 214.96110638976097, Train-Loss: 80.12019111588597\n",
      "Epoch: 21/100, Test-Loss: 229.3179967701435, Train-Loss: 75.77306485921144\n"
     ]
    },
    {
     "ename": "KeyboardInterrupt",
     "evalue": "",
     "output_type": "error",
     "traceback": [
      "\u001b[0;31m---------------------------------------------------------------------------\u001b[0m",
      "\u001b[0;31mKeyboardInterrupt\u001b[0m                         Traceback (most recent call last)",
      "\u001b[0;32m<ipython-input-49-b4a221e3ea6d>\u001b[0m in \u001b[0;36m<module>\u001b[0;34m\u001b[0m\n\u001b[1;32m      5\u001b[0m         \u001b[0moutput\u001b[0m \u001b[0;34m=\u001b[0m \u001b[0mlstm\u001b[0m\u001b[0;34m(\u001b[0m\u001b[0mdata\u001b[0m\u001b[0;34m)\u001b[0m\u001b[0;34m\u001b[0m\u001b[0;34m\u001b[0m\u001b[0m\n\u001b[1;32m      6\u001b[0m         \u001b[0mloss\u001b[0m \u001b[0;34m=\u001b[0m \u001b[0mloss_criterion\u001b[0m\u001b[0;34m(\u001b[0m\u001b[0moutput\u001b[0m\u001b[0;34m,\u001b[0m \u001b[0mlabel\u001b[0m\u001b[0;34m[\u001b[0m\u001b[0;34m:\u001b[0m\u001b[0;34m,\u001b[0m \u001b[0;34m-\u001b[0m\u001b[0;36m1\u001b[0m\u001b[0;34m]\u001b[0m\u001b[0;34m)\u001b[0m\u001b[0;34m\u001b[0m\u001b[0;34m\u001b[0m\u001b[0m\n\u001b[0;32m----> 7\u001b[0;31m         \u001b[0mloss\u001b[0m\u001b[0;34m.\u001b[0m\u001b[0mbackward\u001b[0m\u001b[0;34m(\u001b[0m\u001b[0mretain_graph\u001b[0m\u001b[0;34m=\u001b[0m\u001b[0;32mTrue\u001b[0m\u001b[0;34m)\u001b[0m\u001b[0;34m\u001b[0m\u001b[0;34m\u001b[0m\u001b[0m\n\u001b[0m\u001b[1;32m      8\u001b[0m         \u001b[0moptimizer\u001b[0m\u001b[0;34m.\u001b[0m\u001b[0mstep\u001b[0m\u001b[0;34m(\u001b[0m\u001b[0;34m)\u001b[0m\u001b[0;34m\u001b[0m\u001b[0;34m\u001b[0m\u001b[0m\n\u001b[1;32m      9\u001b[0m         \u001b[0mtrain_sum_loss\u001b[0m \u001b[0;34m+=\u001b[0m \u001b[0mloss\u001b[0m\u001b[0;34m.\u001b[0m\u001b[0mitem\u001b[0m\u001b[0;34m(\u001b[0m\u001b[0;34m)\u001b[0m\u001b[0;34m\u001b[0m\u001b[0;34m\u001b[0m\u001b[0m\n",
      "\u001b[0;32m~/anaconda3/envs/pytorch_env/lib/python3.6/site-packages/torch/tensor.py\u001b[0m in \u001b[0;36mbackward\u001b[0;34m(self, gradient, retain_graph, create_graph)\u001b[0m\n\u001b[1;32m    116\u001b[0m                 \u001b[0mproducts\u001b[0m\u001b[0;34m.\u001b[0m \u001b[0mDefaults\u001b[0m \u001b[0mto\u001b[0m\u001b[0;31m \u001b[0m\u001b[0;31m`\u001b[0m\u001b[0;31m`\u001b[0m\u001b[0;32mFalse\u001b[0m\u001b[0;31m`\u001b[0m\u001b[0;31m`\u001b[0m\u001b[0;34m.\u001b[0m\u001b[0;34m\u001b[0m\u001b[0;34m\u001b[0m\u001b[0m\n\u001b[1;32m    117\u001b[0m         \"\"\"\n\u001b[0;32m--> 118\u001b[0;31m         \u001b[0mtorch\u001b[0m\u001b[0;34m.\u001b[0m\u001b[0mautograd\u001b[0m\u001b[0;34m.\u001b[0m\u001b[0mbackward\u001b[0m\u001b[0;34m(\u001b[0m\u001b[0mself\u001b[0m\u001b[0;34m,\u001b[0m \u001b[0mgradient\u001b[0m\u001b[0;34m,\u001b[0m \u001b[0mretain_graph\u001b[0m\u001b[0;34m,\u001b[0m \u001b[0mcreate_graph\u001b[0m\u001b[0;34m)\u001b[0m\u001b[0;34m\u001b[0m\u001b[0;34m\u001b[0m\u001b[0m\n\u001b[0m\u001b[1;32m    119\u001b[0m \u001b[0;34m\u001b[0m\u001b[0m\n\u001b[1;32m    120\u001b[0m     \u001b[0;32mdef\u001b[0m \u001b[0mregister_hook\u001b[0m\u001b[0;34m(\u001b[0m\u001b[0mself\u001b[0m\u001b[0;34m,\u001b[0m \u001b[0mhook\u001b[0m\u001b[0;34m)\u001b[0m\u001b[0;34m:\u001b[0m\u001b[0;34m\u001b[0m\u001b[0;34m\u001b[0m\u001b[0m\n",
      "\u001b[0;32m~/anaconda3/envs/pytorch_env/lib/python3.6/site-packages/torch/autograd/__init__.py\u001b[0m in \u001b[0;36mbackward\u001b[0;34m(tensors, grad_tensors, retain_graph, create_graph, grad_variables)\u001b[0m\n\u001b[1;32m     91\u001b[0m     Variable._execution_engine.run_backward(\n\u001b[1;32m     92\u001b[0m         \u001b[0mtensors\u001b[0m\u001b[0;34m,\u001b[0m \u001b[0mgrad_tensors\u001b[0m\u001b[0;34m,\u001b[0m \u001b[0mretain_graph\u001b[0m\u001b[0;34m,\u001b[0m \u001b[0mcreate_graph\u001b[0m\u001b[0;34m,\u001b[0m\u001b[0;34m\u001b[0m\u001b[0;34m\u001b[0m\u001b[0m\n\u001b[0;32m---> 93\u001b[0;31m         allow_unreachable=True)  # allow_unreachable flag\n\u001b[0m\u001b[1;32m     94\u001b[0m \u001b[0;34m\u001b[0m\u001b[0m\n\u001b[1;32m     95\u001b[0m \u001b[0;34m\u001b[0m\u001b[0m\n",
      "\u001b[0;31mKeyboardInterrupt\u001b[0m: "
     ]
    }
   ],
   "source": [
    "for epoch in range(epochs):\n",
    "    train_sum_loss = 0\n",
    "    for data, label in zip(x0, y0):\n",
    "        optimizer.zero_grad()\n",
    "        output = lstm(data)\n",
    "        loss = loss_criterion(output, label[:, -1])\n",
    "        loss.backward(retain_graph=True)\n",
    "        optimizer.step()\n",
    "        train_sum_loss += loss.item()\n",
    "    \n",
    "    test_sum_loss = 0\n",
    "    for data, label in zip(x2, y2):\n",
    "        output = lstm(data)\n",
    "        loss = loss_criterion(output, label[:, -1])\n",
    "        test_sum_loss += loss.item()\n",
    "        \n",
    "    print(\"Epoch: {}/{}, Test-Loss: {}, Train-Loss: {}\".format(epoch, epochs, test_sum_loss, train_sum_loss))"
   ]
  },
  {
   "cell_type": "code",
   "execution_count": null,
   "metadata": {},
   "outputs": [],
   "source": []
  },
  {
   "cell_type": "code",
   "execution_count": null,
   "metadata": {},
   "outputs": [],
   "source": []
  }
 ],
 "metadata": {
  "kernelspec": {
   "display_name": "Python 3",
   "language": "python",
   "name": "python3"
  },
  "language_info": {
   "codemirror_mode": {
    "name": "ipython",
    "version": 3
   },
   "file_extension": ".py",
   "mimetype": "text/x-python",
   "name": "python",
   "nbconvert_exporter": "python",
   "pygments_lexer": "ipython3",
   "version": "3.6.9"
  }
 },
 "nbformat": 4,
 "nbformat_minor": 2
}
