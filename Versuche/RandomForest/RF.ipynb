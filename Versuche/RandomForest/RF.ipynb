{
 "cells": [
  {
   "cell_type": "code",
   "execution_count": 12,
   "metadata": {},
   "outputs": [],
   "source": [
    "import pandas as pd\n",
    "import numpy as np\n",
    "import json\n",
    "import zipfile\n",
    "import seaborn as sns\n",
    "import matplotlib.pyplot as plt\n",
    "from matplotlib import cm\n",
    "from sklearn.ensemble import RandomForestClassifier\n",
    "from sklearn.metrics import roc_auc_score\n",
    "\n",
    "np.set_printoptions(suppress=True, linewidth=np.inf)"
   ]
  },
  {
   "cell_type": "code",
   "execution_count": 13,
   "metadata": {},
   "outputs": [],
   "source": [
    "'''\n",
    "Attribute Information:\n",
    "1.  CRIM      per capita crime rate by town\n",
    "2.  ZN        proportion of residential land zoned for lots over 25,000 sq.ft.\n",
    "3.  INDUS     proportion of non-retail business acres per town\n",
    "4.  CHAS      Charles River dummy variable (= 1 if tract bounds river; 0 otherwise)\n",
    "5.  NOX       nitric oxides concentration (parts per 10 million)\n",
    "6.  RM        average number of rooms per dwelling\n",
    "7.  AGE       proportion of owner-occupied units built prior to 1940\n",
    "8.  DIS       weighted distances to five Boston employment centres\n",
    "9.  RAD       index of accessibility to radial highways\n",
    "10. TAX      full-value property-tax rate per $10,000\n",
    "11. PTRATIO  pupil-teacher ratio by town\n",
    "12. B        1000(Bk - 0.63)^2 where Bk is the proportion of blacks by town\n",
    "13. LSTAT    % lower status of the population\n",
    "14. MEDV     Median value of owner-occupied homes in $1000's\n",
    "'''\n",
    "\n",
    "url = 'https://archive.ics.uci.edu/ml/machine-learning-databases/housing/housing.data'\n",
    "cols = ['CRIM', 'ZN', 'INDUS', 'CHAS', 'NOX', 'RM', 'AGE', 'DIS', 'RAD', 'TAX', 'PTRATIO', 'B', 'LSTAT', 'TGT']\n",
    "boston = pd.read_csv(url, sep=' ', skipinitialspace=True, header=None, names=cols, index_col=False)\n",
    "\n",
    "n_validate_set = 100\n",
    "n_elements = len(boston) # 506\n",
    "n_train_set = n_elements - n_validate_set\n",
    "n_class_reduce = 3\n",
    "\n",
    "train = boston.iloc[:n_train_set, 0:13]\n",
    "train_labels = (boston.iloc[:n_train_set, 13] * 10).astype(int)\n",
    "validate = boston.iloc[n_train_set:, 0:13]\n",
    "validate_labels = (boston.iloc[n_train_set:, 13] * 10).astype(int)\n",
    "\n",
    "min_class, max_class = train_labels.min(), train_labels.max()\n",
    "train_labels = (train_labels / ((max_class - min_class) / (n_class_reduce - 1))).astype(int)\n",
    "validate_labels = (validate_labels / ((max_class - min_class) / (n_class_reduce - 1))).astype(int)\n",
    "min_class, max_class = train_labels.min(), train_labels.max()"
   ]
  },
  {
   "cell_type": "code",
   "execution_count": 14,
   "metadata": {},
   "outputs": [],
   "source": [
    "model = RandomForestClassifier(n_estimators=1000, bootstrap = True, max_features = 'sqrt')\n",
    "model.fit(train, train_labels)\n",
    "\n",
    "rf_predictions = model.predict(validate)\n",
    "rf_probs = model.predict_proba(validate)[:, 1]\n",
    "\n",
    "feature_importance = pd.DataFrame({'feature': list(train.columns), 'importance': model.feature_importances_}).sort_values('importance', ascending = False)\n",
    "feature_importance[\"cum_sum_importance\"] = feature_importance[\"importance\"].cumsum()"
   ]
  },
  {
   "cell_type": "code",
   "execution_count": 15,
   "metadata": {},
   "outputs": [
    {
     "name": "stdout",
     "output_type": "stream",
     "text": [
      "Model Accuracy: 90.0%\n",
      "all classes: [1 0 2], min class: 0, max class: 2\n",
      "Shift statistics: Mean: 0.0, Median: 0.0, Variance: 0.1\n"
     ]
    },
    {
     "data": {
      "text/html": [
       "<div>\n",
       "<style scoped>\n",
       "    .dataframe tbody tr th:only-of-type {\n",
       "        vertical-align: middle;\n",
       "    }\n",
       "\n",
       "    .dataframe tbody tr th {\n",
       "        vertical-align: top;\n",
       "    }\n",
       "\n",
       "    .dataframe thead th {\n",
       "        text-align: right;\n",
       "    }\n",
       "</style>\n",
       "<table border=\"1\" class=\"dataframe\">\n",
       "  <thead>\n",
       "    <tr style=\"text-align: right;\">\n",
       "      <th></th>\n",
       "      <th>feature</th>\n",
       "      <th>importance</th>\n",
       "      <th>cum_sum_importance</th>\n",
       "    </tr>\n",
       "  </thead>\n",
       "  <tbody>\n",
       "    <tr>\n",
       "      <td>12</td>\n",
       "      <td>LSTAT</td>\n",
       "      <td>0.237113</td>\n",
       "      <td>0.237113</td>\n",
       "    </tr>\n",
       "    <tr>\n",
       "      <td>5</td>\n",
       "      <td>RM</td>\n",
       "      <td>0.220185</td>\n",
       "      <td>0.457297</td>\n",
       "    </tr>\n",
       "    <tr>\n",
       "      <td>4</td>\n",
       "      <td>NOX</td>\n",
       "      <td>0.078807</td>\n",
       "      <td>0.536105</td>\n",
       "    </tr>\n",
       "    <tr>\n",
       "      <td>6</td>\n",
       "      <td>AGE</td>\n",
       "      <td>0.075252</td>\n",
       "      <td>0.611357</td>\n",
       "    </tr>\n",
       "    <tr>\n",
       "      <td>10</td>\n",
       "      <td>PTRATIO</td>\n",
       "      <td>0.071529</td>\n",
       "      <td>0.682885</td>\n",
       "    </tr>\n",
       "    <tr>\n",
       "      <td>7</td>\n",
       "      <td>DIS</td>\n",
       "      <td>0.067121</td>\n",
       "      <td>0.750006</td>\n",
       "    </tr>\n",
       "    <tr>\n",
       "      <td>2</td>\n",
       "      <td>INDUS</td>\n",
       "      <td>0.063450</td>\n",
       "      <td>0.813456</td>\n",
       "    </tr>\n",
       "    <tr>\n",
       "      <td>0</td>\n",
       "      <td>CRIM</td>\n",
       "      <td>0.060946</td>\n",
       "      <td>0.874402</td>\n",
       "    </tr>\n",
       "    <tr>\n",
       "      <td>11</td>\n",
       "      <td>B</td>\n",
       "      <td>0.040954</td>\n",
       "      <td>0.915356</td>\n",
       "    </tr>\n",
       "    <tr>\n",
       "      <td>9</td>\n",
       "      <td>TAX</td>\n",
       "      <td>0.040924</td>\n",
       "      <td>0.956280</td>\n",
       "    </tr>\n",
       "    <tr>\n",
       "      <td>8</td>\n",
       "      <td>RAD</td>\n",
       "      <td>0.019436</td>\n",
       "      <td>0.975717</td>\n",
       "    </tr>\n",
       "    <tr>\n",
       "      <td>1</td>\n",
       "      <td>ZN</td>\n",
       "      <td>0.017938</td>\n",
       "      <td>0.993655</td>\n",
       "    </tr>\n",
       "    <tr>\n",
       "      <td>3</td>\n",
       "      <td>CHAS</td>\n",
       "      <td>0.006345</td>\n",
       "      <td>1.000000</td>\n",
       "    </tr>\n",
       "  </tbody>\n",
       "</table>\n",
       "</div>"
      ],
      "text/plain": [
       "    feature  importance  cum_sum_importance\n",
       "12    LSTAT    0.237113            0.237113\n",
       "5        RM    0.220185            0.457297\n",
       "4       NOX    0.078807            0.536105\n",
       "6       AGE    0.075252            0.611357\n",
       "10  PTRATIO    0.071529            0.682885\n",
       "7       DIS    0.067121            0.750006\n",
       "2     INDUS    0.063450            0.813456\n",
       "0      CRIM    0.060946            0.874402\n",
       "11        B    0.040954            0.915356\n",
       "9       TAX    0.040924            0.956280\n",
       "8       RAD    0.019436            0.975717\n",
       "1        ZN    0.017938            0.993655\n",
       "3      CHAS    0.006345            1.000000"
      ]
     },
     "execution_count": 15,
     "metadata": {},
     "output_type": "execute_result"
    },
    {
     "data": {
      "image/png": "[encoded data removed]",
      "text/plain": [
       "<Figure size 720x360 with 2 Axes>"
      ]
     },
     "metadata": {
      "needs_background": "light"
     },
     "output_type": "display_data"
    }
   ],
   "source": [
    "shifts = []\n",
    "predictions_class = [[] for i in range(n_class_reduce)]\n",
    "predictions_probs = [[] for i in range(n_class_reduce)]\n",
    "for i in range(n_validate_set):\n",
    "    correct = validate_labels.iloc[i] == rf_predictions[i]\n",
    "    shift = rf_predictions[i] - validate_labels.iloc[i]\n",
    "    shifts.append(shift)\n",
    "    predictions_class[rf_predictions[i] - min_class].append(correct)\n",
    "    if correct:\n",
    "        predictions_probs[rf_predictions[i] - min_class].append(rf_probs[i])\n",
    "    \n",
    "    #print(\"class: {}, predicted class: {}, probability: {}, correct: {}, shift: {}\".format(validate_labels.iloc[i], rf_predictions[i], rf_probs[i], correct, shift))\n",
    "shifts = np.asarray(shifts)\n",
    "print(\"Model Accuracy: {}%\".format(model.score(validate, validate_labels) * 100))\n",
    "print(\"all classes: {}, min class: {}, max class: {}\".format(train_labels.unique(), min_class, max_class))\n",
    "print(\"Shift statistics: Mean: {}, Median: {}, Variance: {}\".format(np.mean(shifts), np.median(shifts), np.var(shifts)))\n",
    "f, axes = plt.subplots(1, 2, figsize=(10, 5))\n",
    "sns.distplot(shifts, kde=False, hist=True, color=\"r\", ax=axes[1])\n",
    "sns.distplot(shifts, kde=True, hist=False, color=\"r\", ax=axes[0])\n",
    "axes[0].set_xlabel(\"Shift of class to predicted class.\")\n",
    "axes[1].set_xlabel(\"Shift of class to predicted class.\")\n",
    "axes[1].set_ylabel(\"Total shifts of class to predicted class.\")\n",
    "feature_importance"
   ]
  },
  {
   "cell_type": "code",
   "execution_count": 16,
   "metadata": {},
   "outputs": [
    {
     "name": "stdout",
     "output_type": "stream",
     "text": [
      "Model Accuracy: 90.0%\n",
      "Class 0 Accuracy: 94.4%\n",
      "Class 1 Accuracy: 50.0%\n",
      "Class 2 Accuracy: 0.0%\n"
     ]
    }
   ],
   "source": [
    "print(\"Model Accuracy: {}%\".format(model.score(validate, validate_labels) * 100))\n",
    "for i in range(n_class_reduce):\n",
    "    if len(predictions_class[i]) > 0:\n",
    "        print(\"Class {} Accuracy: {}%\".format(i, np.round((np.sum(predictions_class[i]) * 100) / len(predictions_class[i]), decimals=1)))\n",
    "    else: \n",
    "        print(\"Class {} Accuracy: {}%\".format(i, 0.0))"
   ]
  },
  {
   "cell_type": "code",
   "execution_count": null,
   "metadata": {},
   "outputs": [],
   "source": []
  }
 ],
 "metadata": {
  "kernelspec": {
   "display_name": "Python 3",
   "language": "python",
   "name": "python3"
  },
  "language_info": {
   "codemirror_mode": {
    "name": "ipython",
    "version": 3
   },
   "file_extension": ".py",
   "mimetype": "text/x-python",
   "name": "python",
   "nbconvert_exporter": "python",
   "pygments_lexer": "ipython3",
   "version": "3.7.4"
  }
 },
 "nbformat": 4,
 "nbformat_minor": 2
}
