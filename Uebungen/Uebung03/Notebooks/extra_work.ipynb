{
 "cells": [
  {
   "cell_type": "code",
   "execution_count": 385,
   "metadata": {},
   "outputs": [
    {
     "data": {
      "application/json": {
       "Software versions": [
        {
         "module": "Python",
         "version": "3.7.4 64bit [GCC 7.3.0]"
        },
        {
         "module": "IPython",
         "version": "7.8.0"
        },
        {
         "module": "OS",
         "version": "Linux 4.15.0 66 generic x86_64 with debian buster sid"
        },
        {
         "module": "numpy",
         "version": "1.17.2"
        },
        {
         "module": "pandas",
         "version": "0.25.1"
        },
        {
         "module": "seaborn",
         "version": "0.9.0"
        },
        {
         "module": "urllib.request",
         "version": "3.7"
        },
        {
         "module": "random",
         "version": "The 'random' distribution was not found and is required by the application"
        },
        {
         "module": "sklearn",
         "version": "0.21.3"
        },
        {
         "module": "scipy",
         "version": "1.3.1"
        },
        {
         "module": "seaborn",
         "version": "0.9.0"
        }
       ]
      },
      "text/html": [
       "<table><tr><th>Software</th><th>Version</th></tr><tr><td>Python</td><td>3.7.4 64bit [GCC 7.3.0]</td></tr><tr><td>IPython</td><td>7.8.0</td></tr><tr><td>OS</td><td>Linux 4.15.0 66 generic x86_64 with debian buster sid</td></tr><tr><td>numpy</td><td>1.17.2</td></tr><tr><td>pandas</td><td>0.25.1</td></tr><tr><td>seaborn</td><td>0.9.0</td></tr><tr><td>urllib.request</td><td>3.7</td></tr><tr><td>random</td><td>The 'random' distribution was not found and is required by the application</td></tr><tr><td>sklearn</td><td>0.21.3</td></tr><tr><td>scipy</td><td>1.3.1</td></tr><tr><td>seaborn</td><td>0.9.0</td></tr><tr><td colspan='2'>Wed Nov 13 15:59:09 2019 CET</td></tr></table>"
      ],
      "text/latex": [
       "\\begin{tabular}{|l|l|}\\hline\n",
       "{\\bf Software} & {\\bf Version} \\\\ \\hline\\hline\n",
       "Python & 3.7.4 64bit [GCC 7.3.0] \\\\ \\hline\n",
       "IPython & 7.8.0 \\\\ \\hline\n",
       "OS & Linux 4.15.0 66 generic x86\\_64 with debian buster sid \\\\ \\hline\n",
       "numpy & 1.17.2 \\\\ \\hline\n",
       "pandas & 0.25.1 \\\\ \\hline\n",
       "seaborn & 0.9.0 \\\\ \\hline\n",
       "urllib.request & 3.7 \\\\ \\hline\n",
       "random & The 'random' distribution was not found and is required by the application \\\\ \\hline\n",
       "sklearn & 0.21.3 \\\\ \\hline\n",
       "scipy & 1.3.1 \\\\ \\hline\n",
       "seaborn & 0.9.0 \\\\ \\hline\n",
       "\\hline \\multicolumn{2}{|l|}{Wed Nov 13 15:59:09 2019 CET} \\\\ \\hline\n",
       "\\end{tabular}\n"
      ],
      "text/plain": [
       "Software versions\n",
       "Python 3.7.4 64bit [GCC 7.3.0]\n",
       "IPython 7.8.0\n",
       "OS Linux 4.15.0 66 generic x86_64 with debian buster sid\n",
       "numpy 1.17.2\n",
       "pandas 0.25.1\n",
       "seaborn 0.9.0\n",
       "urllib.request 3.7\n",
       "random The 'random' distribution was not found and is required by the application\n",
       "sklearn 0.21.3\n",
       "scipy 1.3.1\n",
       "seaborn 0.9.0\n",
       "Wed Nov 13 15:59:09 2019 CET"
      ]
     },
     "execution_count": 385,
     "metadata": {},
     "output_type": "execute_result"
    }
   ],
   "source": [
    "import matplotlib.pyplot as plt\n",
    "plt.style.use('classic')\n",
    "import numpy as np\n",
    "import pandas as pd\n",
    "import os\n",
    "import random\n",
    "from urllib.request import urlretrieve\n",
    "from sklearn.linear_model import LinearRegression\n",
    "import scipy\n",
    "import seaborn as sns\n",
    "\n",
    "%matplotlib inline\n",
    "\n",
    "np.set_printoptions(suppress=True, formatter={'float': '{: 0.6f}'.format})\n",
    "\n",
    "%reload_ext version_information\n",
    "%version_information numpy, pandas, seaborn, urllib.request, random, sklearn, scipy, seaborn"
   ]
  },
  {
   "cell_type": "code",
   "execution_count": 386,
   "metadata": {},
   "outputs": [
    {
     "name": "stdout",
     "output_type": "stream",
     "text": [
      "File already downloaded.\n"
     ]
    }
   ],
   "source": [
    "url = 'http://www-home.htwg-konstanz.de/~oduerr/data/fishing.npz'\n",
    "npz_file_name = \"../data/\" + 'fishing.npz'\n",
    "\n",
    "if not os.path.isfile(npz_file_name):\n",
    "    print(\"Downloading\")\n",
    "    urlretrieve('http://www-home.htwg-konstanz.de/~oduerr/data/fishing.npz', npz_file_name)\n",
    "else:\n",
    "    print(\"File already downloaded.\")\n",
    "    d = np.load(npz_file_name)"
   ]
  },
  {
   "cell_type": "code",
   "execution_count": 387,
   "metadata": {},
   "outputs": [],
   "source": [
    "header = [\"livebait\", \"camper\", \"person\", \"children\"]\n",
    "train_data = np.asarray(d['Xt'])\n",
    "test_data = np.asarray(d['Xte'])\n",
    "train_labels = np.asarray(d['yt'])\n",
    "test_labels = np.asarray(d['yte'])\n",
    "n_train_data, n_test_data = 200, 50"
   ]
  },
  {
   "cell_type": "code",
   "execution_count": 388,
   "metadata": {},
   "outputs": [
    {
     "data": {
      "text/latex": [
       "\\begin{align}\n",
       "Weights: & \\quad \\mathbf{\\hat{w}} && = (X^T X)^{-1} X^T \\mathbf{y}  \\\\\n",
       "Intercept: & \\quad \\hat{w}_0 && = \\bar{y} - \\langle \\mathbf{\\hat{w}}, \\bar{\\mathbf{x}} \\rangle \\\\\n",
       "Estimate: & \\quad \\mathbf{\\hat{y}} && = \\langle \\mathbf{\\hat{w}}, \\mathbf{x} \\rangle + \\hat{w}_0 \\\\\n",
       "\\end{align}\n"
      ],
      "text/plain": [
       "<IPython.core.display.Latex object>"
      ]
     },
     "metadata": {},
     "output_type": "display_data"
    }
   ],
   "source": [
    "%%latex\n",
    "\\begin{align}\n",
    "Weights: & \\quad \\mathbf{\\hat{w}} && = (X^T X)^{-1} X^T \\mathbf{y}  \\\\\n",
    "Intercept: & \\quad \\hat{w}_0 && = \\bar{y} - \\langle \\mathbf{\\hat{w}}, \\bar{\\mathbf{x}} \\rangle \\\\\n",
    "Estimate: & \\quad \\mathbf{\\hat{y}} && = \\langle \\mathbf{\\hat{w}}, \\mathbf{x} \\rangle + \\hat{w}_0 \\\\\n",
    "\\end{align}"
   ]
  },
  {
   "cell_type": "markdown",
   "metadata": {},
   "source": [
    "### a) Lineare Regression wie in Vorlesung"
   ]
  },
  {
   "cell_type": "code",
   "execution_count": 389,
   "metadata": {},
   "outputs": [
    {
     "name": "stdout",
     "output_type": "stream",
     "text": [
      "Intercept: -0.6354212760925293, Weights: [-1.699983  1.619098  3.162473 -5.049979]\n"
     ]
    }
   ],
   "source": [
    "_w = np.linalg.inv(train_data.T @ train_data) @ train_data.T @ train_labels\n",
    "_intercept = np.mean(train_labels) - _w @ np.mean(train_data, axis=0)\n",
    "_y = np.sum(_w.T * train_data, axis=1) + _intercept\n",
    "print(\"Intercept: {}, Weights: {}\".format(_intercept, _w))"
   ]
  },
  {
   "cell_type": "markdown",
   "metadata": {},
   "source": [
    "### b) Lineare Regression mit sklearn"
   ]
  },
  {
   "cell_type": "code",
   "execution_count": 390,
   "metadata": {},
   "outputs": [
    {
     "name": "stdout",
     "output_type": "stream",
     "text": [
      "Intercept: -8.492233276367188, Weights: [ 2.482213  2.954309  4.649542 -5.471604]\n"
     ]
    }
   ],
   "source": [
    "reg = LinearRegression().fit(train_data, train_labels)\n",
    "_w = reg.coef_\n",
    "_intercept = reg.intercept_\n",
    "_y = np.sum(_w.T * train_data, axis=1) + _intercept\n",
    "print(\"Intercept: {}, Weights: {}\".format(_intercept, _w))"
   ]
  },
  {
   "cell_type": "markdown",
   "metadata": {},
   "source": [
    "### c) RMSE und NLL(Gauss) auf den Testdaten"
   ]
  },
  {
   "cell_type": "code",
   "execution_count": 391,
   "metadata": {},
   "outputs": [
    {
     "data": {
      "text/latex": [
       "\\begin{align}\n",
       "Root \\; Mean \\; Square \\; Error(RMSE): & \\quad \\sqrt{\\frac{1}{N} \\sum_{i=1}^{N}(\\mathbf{y} - \\mathbf{\\hat{y}})^2} \\\\\n",
       "Negative \\; Log \\; Likelihood(NLL): & \\quad -\\frac{1}{N} \\sum_{i=1}^{N}log(p_{model}(y^{(i)}|x^{(i)};\\theta)) \\\\\n",
       "Probability \\; density \\; function(PDF): & \\quad \\frac{1}{\\sqrt{2\\pi\\sigma^2}}e^{-\\frac{(x-\\mu)^2}{2\\sigma^2}}\n",
       "\\end{align}\n"
      ],
      "text/plain": [
       "<IPython.core.display.Latex object>"
      ]
     },
     "metadata": {},
     "output_type": "display_data"
    }
   ],
   "source": [
    "%%latex\n",
    "\\begin{align}\n",
    "Root \\; Mean \\; Square \\; Error(RMSE): & \\quad \\sqrt{\\frac{1}{N} \\sum_{i=1}^{N}(\\mathbf{y} - \\mathbf{\\hat{y}})^2} \\\\\n",
    "Negative \\; Log \\; Likelihood(NLL): & \\quad -\\frac{1}{N} \\sum_{i=1}^{N}log(p_{model}(y^{(i)}|x^{(i)};\\theta)) \\\\\n",
    "Probability \\; density \\; function(PDF): & \\quad \\frac{1}{\\sqrt{2\\pi\\sigma^2}}e^{-\\frac{(x-\\mu)^2}{2\\sigma^2}}\n",
    "\\end{align}"
   ]
  },
  {
   "cell_type": "code",
   "execution_count": 408,
   "metadata": {},
   "outputs": [
    {
     "name": "stdout",
     "output_type": "stream",
     "text": [
      "RMSE: 8.588126569208793, var: 73.48029327392578, NLL: 3.5674472059765203\n"
     ]
    }
   ],
   "source": [
    "_y = np.sum(_w.T * test_data, axis=1) + _intercept\n",
    "rmse = np.sqrt(np.sum((test_labels - _y)**2) / n_test_data)\n",
    "residuals = test_labels - _y\n",
    "std = np.std(residuals)\n",
    "var = np.var(residuals)\n",
    "mean = np.mean(residuals)\n",
    "cpd = [scipy.stats.norm(mean, std).pdf(residuals[i]) for i in range(n_test_data)]\n",
    "nll = -np.sum(np.log(cpd)) / n_test_data\n",
    "print(\"RMSE: {}, var: {}, NLL: {}\".format(rmse, var, nll))"
   ]
  },
  {
   "cell_type": "markdown",
   "metadata": {},
   "source": [
    "### d) Plot Vergleich der Vorhersage und Testdaten"
   ]
  },
  {
   "cell_type": "code",
   "execution_count": 409,
   "metadata": {},
   "outputs": [
    {
     "name": "stdout",
     "output_type": "stream",
     "text": [
      "16.276258764266966 -17.326233682632445\n",
      "0.00016503647819665065 0.0009306862408613739\n"
     ]
    },
    {
     "data": {
      "image/png": "[encoded data removed]",
      "text/plain": [
       "<Figure size 1080x720 with 1 Axes>"
      ]
     },
     "metadata": {},
     "output_type": "display_data"
    }
   ],
   "source": [
    "x = np.arange(n_test_data)\n",
    "mean_y = np.mean(_y)\n",
    "p1 = mean + 1.96 * std\n",
    "p2 = mean - 1.96 * std\n",
    "print(p1, p2)\n",
    "\n",
    "cpd = np.asarray([scipy.stats.norm(mean, std).pdf(residuals[i]) for i in range(n_test_data)]) / n_test_data\n",
    "p1 = np.percentile(cpd, 2.5)\n",
    "p2 = np.percentile(cpd, 97.5)\n",
    "print(p1, p2)\n",
    "\n",
    "fig, ax = plt.subplots(figsize=(15, 10))\n",
    "sns.scatterplot(x, mean_y, marker=\"s\", s=200, color='r', ax=ax, label='mean of predictions')\n",
    "sns.scatterplot(x, test_labels, marker=\"X\", s=200, color='b', ax=ax, label='predictions')\n",
    "sns.scatterplot(x, p1, marker=\"s\", s=100, color='seagreen', ax=ax, label='2.5 percentile')\n",
    "sns.scatterplot(x, p2, marker=\"s\", s=100, color='springgreen', ax=ax, label='97.5 percentile')\n",
    "ax.set_title(\"\")\n",
    "ax.set_xlabel(\"Test data points\")\n",
    "ax.set_ylabel(\"Fish caught\")\n",
    "ax.legend(loc=\"upper left\", fancybox=True, framealpha=1, shadow=True, borderpad=1)\n",
    "sns.set_style(\"whitegrid\")"
   ]
  },
  {
   "cell_type": "markdown",
   "metadata": {},
   "source": [
    "### e) RMSE und NLL(Poisson) auf den Testdaten"
   ]
  },
  {
   "cell_type": "code",
   "execution_count": 394,
   "metadata": {},
   "outputs": [
    {
     "name": "stdout",
     "output_type": "stream",
     "text": [
      "RMSE: 8.588126569208793, σ^2: 73.48029327392578, NLL: 0\n"
     ]
    }
   ],
   "source": [
    "_y = np.sum(_w.T * test_data, axis=1) + _intercept\n",
    "rmse = np.sqrt(np.sum((test_labels - _y)**2) / n_test_data)\n",
    "residuals = test_labels - _y\n",
    "std = np.std(residuals)\n",
    "var = np.var(residuals)\n",
    "mean = np.mean(residuals)\n",
    "nll = 0\n",
    "print(\"RMSE: {}, \\u03C3^2: {}, NLL: {}\".format(rmse, var, nll))"
   ]
  },
  {
   "cell_type": "markdown",
   "metadata": {},
   "source": [
    "### f) Plot Vergleich der Vorhersage und Testdaten"
   ]
  },
  {
   "cell_type": "code",
   "execution_count": 395,
   "metadata": {},
   "outputs": [
    {
     "name": "stdout",
     "output_type": "stream",
     "text": [
      "16.276258764266966 -17.326233682632445\n"
     ]
    },
    {
     "data": {
      "image/png": "[encoded data removed]",
      "text/plain": [
       "<Figure size 1080x720 with 1 Axes>"
      ]
     },
     "metadata": {},
     "output_type": "display_data"
    }
   ],
   "source": [
    "x = np.arange(n_test_data)\n",
    "mean_y = np.mean(_y)\n",
    "p1 = mean + 1.96 * std\n",
    "p2 = mean - 1.96 * std\n",
    "print(p1, p2)\n",
    "fig, ax = plt.subplots(figsize=(15, 10))\n",
    "sns.scatterplot(x, mean_y, marker=\"s\", s=200, color='r', ax=ax, label='mean of predictions')\n",
    "sns.scatterplot(x, test_labels, marker=\"X\", s=200, color='b', ax=ax, label='predictions')\n",
    "sns.scatterplot(x, p1, marker=\"s\", s=100, color='seagreen', ax=ax, label='2.5 percentile')\n",
    "sns.scatterplot(x, p2, marker=\"s\", s=100, color='springgreen', ax=ax, label='97.5 percentile')\n",
    "ax.set_title(\"\")\n",
    "ax.set_xlabel(\"Test data points\")\n",
    "ax.set_ylabel(\"Fish caught\")\n",
    "ax.legend(loc=\"upper left\", fancybox=True, framealpha=1, shadow=True, borderpad=1)\n",
    "sns.set_style(\"whitegrid\")"
   ]
  },
  {
   "cell_type": "code",
   "execution_count": null,
   "metadata": {},
   "outputs": [],
   "source": []
  }
 ],
 "metadata": {
  "kernelspec": {
   "display_name": "Python 3",
   "language": "python",
   "name": "python3"
  },
  "language_info": {
   "codemirror_mode": {
    "name": "ipython",
    "version": 3
   },
   "file_extension": ".py",
   "mimetype": "text/x-python",
   "name": "python",
   "nbconvert_exporter": "python",
   "pygments_lexer": "ipython3",
   "version": "3.7.4"
  }
 },
 "nbformat": 4,
 "nbformat_minor": 2
}
