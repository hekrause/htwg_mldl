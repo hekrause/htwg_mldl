{
 "cells": [
  {
   "cell_type": "code",
   "execution_count": 384,
   "metadata": {},
   "outputs": [
    {
     "data": {
      "application/json": {
       "Software versions": [
        {
         "module": "Python",
         "version": "3.7.4 64bit [GCC 7.3.0]"
        },
        {
         "module": "IPython",
         "version": "7.8.0"
        },
        {
         "module": "OS",
         "version": "Linux 4.15.0 66 generic x86_64 with debian buster sid"
        },
        {
         "module": "numpy",
         "version": "1.17.2"
        },
        {
         "module": "pandas",
         "version": "0.25.1"
        },
        {
         "module": "seaborn",
         "version": "0.9.0"
        },
        {
         "module": "urllib.request",
         "version": "3.7"
        },
        {
         "module": "random",
         "version": "The 'random' distribution was not found and is required by the application"
        },
        {
         "module": "sklearn",
         "version": "0.21.3"
        }
       ]
      },
      "text/html": [
       "<table><tr><th>Software</th><th>Version</th></tr><tr><td>Python</td><td>3.7.4 64bit [GCC 7.3.0]</td></tr><tr><td>IPython</td><td>7.8.0</td></tr><tr><td>OS</td><td>Linux 4.15.0 66 generic x86_64 with debian buster sid</td></tr><tr><td>numpy</td><td>1.17.2</td></tr><tr><td>pandas</td><td>0.25.1</td></tr><tr><td>seaborn</td><td>0.9.0</td></tr><tr><td>urllib.request</td><td>3.7</td></tr><tr><td>random</td><td>The 'random' distribution was not found and is required by the application</td></tr><tr><td>sklearn</td><td>0.21.3</td></tr><tr><td colspan='2'>Tue Nov 12 16:20:04 2019 CET</td></tr></table>"
      ],
      "text/latex": [
       "\\begin{tabular}{|l|l|}\\hline\n",
       "{\\bf Software} & {\\bf Version} \\\\ \\hline\\hline\n",
       "Python & 3.7.4 64bit [GCC 7.3.0] \\\\ \\hline\n",
       "IPython & 7.8.0 \\\\ \\hline\n",
       "OS & Linux 4.15.0 66 generic x86\\_64 with debian buster sid \\\\ \\hline\n",
       "numpy & 1.17.2 \\\\ \\hline\n",
       "pandas & 0.25.1 \\\\ \\hline\n",
       "seaborn & 0.9.0 \\\\ \\hline\n",
       "urllib.request & 3.7 \\\\ \\hline\n",
       "random & The 'random' distribution was not found and is required by the application \\\\ \\hline\n",
       "sklearn & 0.21.3 \\\\ \\hline\n",
       "\\hline \\multicolumn{2}{|l|}{Tue Nov 12 16:20:04 2019 CET} \\\\ \\hline\n",
       "\\end{tabular}\n"
      ],
      "text/plain": [
       "Software versions\n",
       "Python 3.7.4 64bit [GCC 7.3.0]\n",
       "IPython 7.8.0\n",
       "OS Linux 4.15.0 66 generic x86_64 with debian buster sid\n",
       "numpy 1.17.2\n",
       "pandas 0.25.1\n",
       "seaborn 0.9.0\n",
       "urllib.request 3.7\n",
       "random The 'random' distribution was not found and is required by the application\n",
       "sklearn 0.21.3\n",
       "Tue Nov 12 16:20:04 2019 CET"
      ]
     },
     "execution_count": 384,
     "metadata": {},
     "output_type": "execute_result"
    }
   ],
   "source": [
    "import matplotlib.pyplot as plt\n",
    "import numpy as np\n",
    "import pandas as pd\n",
    "import os\n",
    "import random\n",
    "from urllib.request import urlretrieve\n",
    "from sklearn.linear_model import LinearRegression\n",
    "\n",
    "%matplotlib inline\n",
    "\n",
    "np.set_printoptions(suppress=True, formatter={'float': '{: 0.6f}'.format})\n",
    "\n",
    "%reload_ext version_information\n",
    "%version_information numpy, pandas, seaborn, urllib.request, random, sklearn"
   ]
  },
  {
   "cell_type": "code",
   "execution_count": 385,
   "metadata": {},
   "outputs": [
    {
     "name": "stdout",
     "output_type": "stream",
     "text": [
      "File already downloaded.\n"
     ]
    }
   ],
   "source": [
    "url = 'http://www-home.htwg-konstanz.de/~oduerr/data/fishing.npz'\n",
    "npz_file_name = \"../data/\" + 'fishing.npz'\n",
    "\n",
    "if not os.path.isfile(npz_file_name):\n",
    "    print(\"Downloading\")\n",
    "    urlretrieve('http://www-home.htwg-konstanz.de/~oduerr/data/fishing.npz', npz_file_name)\n",
    "else:\n",
    "    print(\"File already downloaded.\")\n",
    "    d = np.load(npz_file_name)"
   ]
  },
  {
   "cell_type": "code",
   "execution_count": 386,
   "metadata": {},
   "outputs": [],
   "source": [
    "header = [\"livebait\", \"camper\", \"person\", \"children\"]\n",
    "train_data = np.asarray(d['Xt'])\n",
    "test_data = np.asarray(d['Xte'])\n",
    "train_labels = np.asarray(d['yt'])\n",
    "test_labels = np.asarray(d['yte'])"
   ]
  },
  {
   "cell_type": "code",
   "execution_count": 392,
   "metadata": {},
   "outputs": [
    {
     "data": {
      "text/latex": [
       "\\begin{align}\n",
       "Estimate: & \\quad \\mathbf{\\hat{y}} && = \\langle \\mathbf{\\hat{w}}, \\mathbf{x} \\rangle + \\hat{w}_0 \\\\\n",
       "Weights: & \\quad \\mathbf{\\hat{w}} && = (X^T X)^{-1} X^T \\mathbf{y}  \\\\\n",
       "Intercept: & \\quad \\hat{w}_0 && = \\bar{y} - \\langle \\mathbf{w}, \\bar{\\mathbf{x}} \\rangle \\\\\n",
       "\\end{align}\n"
      ],
      "text/plain": [
       "<IPython.core.display.Latex object>"
      ]
     },
     "metadata": {},
     "output_type": "display_data"
    }
   ],
   "source": [
    "%%latex\n",
    "\\begin{align}\n",
    "Estimate: & \\quad \\mathbf{\\hat{y}} && = \\langle \\mathbf{\\hat{w}}, \\mathbf{x} \\rangle + \\hat{w}_0 \\\\\n",
    "Weights: & \\quad \\mathbf{\\hat{w}} && = (X^T X)^{-1} X^T \\mathbf{y}  \\\\\n",
    "Intercept: & \\quad \\hat{w}_0 && = \\bar{y} - \\langle \\mathbf{w}, \\bar{\\mathbf{x}} \\rangle \\\\\n",
    "\\end{align}"
   ]
  },
  {
   "cell_type": "markdown",
   "metadata": {},
   "source": [
    "### Lineare Regression wie in Vorlesung"
   ]
  },
  {
   "cell_type": "code",
   "execution_count": 388,
   "metadata": {},
   "outputs": [
    {
     "name": "stdout",
     "output_type": "stream",
     "text": [
      "Weights: [-1.699983  1.619098  3.162473 -5.049979], Intercept: -0.6354212760925293, RMSE: 11.05720786198419\n"
     ]
    }
   ],
   "source": [
    "_w = np.linalg.inv(train_data.T @ train_data) @ train_data.T @ train_labels\n",
    "_intercept = np.mean(train_labels) - _w @ np.mean(train_data, axis=0)\n",
    "_y = np.sum(w.T * train_data, axis=1) + _intercept\n",
    "mse = np.sum((train_labels - _y)**2) / 200\n",
    "rmse = np.sqrt(mse)\n",
    "print(\"Weights: {}, Intercept: {}, RMSE: {}\".format(_w, _intercept, rmse))"
   ]
  },
  {
   "cell_type": "markdown",
   "metadata": {},
   "source": [
    "### Lineare Regression mit sklearn"
   ]
  },
  {
   "cell_type": "code",
   "execution_count": 389,
   "metadata": {},
   "outputs": [
    {
     "name": "stdout",
     "output_type": "stream",
     "text": [
      "Weights: [ 2.482213  2.954309  4.649542 -5.471604], Intercept: -8.492233276367188, RMSE: 10.829104843834045\n"
     ]
    }
   ],
   "source": [
    "reg = LinearRegression().fit(train_data, train_labels)\n",
    "_w = reg.coef_\n",
    "_intercept = reg.intercept_\n",
    "_y = np.sum(_w.T * train_data, axis=1) + _intercept\n",
    "mse = np.sum((train_labels - _y)**2) / 200\n",
    "rmse = np.sqrt(mse)\n",
    "print(\"Weights: {}, Intercept: {}, RMSE: {}\".format(_w, _intercept, rmse))"
   ]
  },
  {
   "cell_type": "code",
   "execution_count": null,
   "metadata": {},
   "outputs": [],
   "source": []
  }
 ],
 "metadata": {
  "kernelspec": {
   "display_name": "Python 3",
   "language": "python",
   "name": "python3"
  },
  "language_info": {
   "codemirror_mode": {
    "name": "ipython",
    "version": 3
   },
   "file_extension": ".py",
   "mimetype": "text/x-python",
   "name": "python",
   "nbconvert_exporter": "python",
   "pygments_lexer": "ipython3",
   "version": "3.7.4"
  }
 },
 "nbformat": 4,
 "nbformat_minor": 2
}
