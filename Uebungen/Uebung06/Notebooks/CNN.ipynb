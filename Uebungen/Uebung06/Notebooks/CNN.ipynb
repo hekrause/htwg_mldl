{
 "cells": [
  {
   "cell_type": "code",
   "execution_count": 1,
   "metadata": {},
   "outputs": [
    {
     "name": "stderr",
     "output_type": "stream",
     "text": [
      "/home/henning/anaconda3/envs/base_mldl/lib/python3.7/site-packages/tensorflow/python/framework/dtypes.py:526: FutureWarning: Passing (type, 1) or '1type' as a synonym of type is deprecated; in a future version of numpy, it will be understood as (type, (1,)) / '(1,)type'.\n",
      "  _np_qint8 = np.dtype([(\"qint8\", np.int8, 1)])\n",
      "/home/henning/anaconda3/envs/base_mldl/lib/python3.7/site-packages/tensorflow/python/framework/dtypes.py:527: FutureWarning: Passing (type, 1) or '1type' as a synonym of type is deprecated; in a future version of numpy, it will be understood as (type, (1,)) / '(1,)type'.\n",
      "  _np_quint8 = np.dtype([(\"quint8\", np.uint8, 1)])\n",
      "/home/henning/anaconda3/envs/base_mldl/lib/python3.7/site-packages/tensorflow/python/framework/dtypes.py:528: FutureWarning: Passing (type, 1) or '1type' as a synonym of type is deprecated; in a future version of numpy, it will be understood as (type, (1,)) / '(1,)type'.\n",
      "  _np_qint16 = np.dtype([(\"qint16\", np.int16, 1)])\n",
      "/home/henning/anaconda3/envs/base_mldl/lib/python3.7/site-packages/tensorflow/python/framework/dtypes.py:529: FutureWarning: Passing (type, 1) or '1type' as a synonym of type is deprecated; in a future version of numpy, it will be understood as (type, (1,)) / '(1,)type'.\n",
      "  _np_quint16 = np.dtype([(\"quint16\", np.uint16, 1)])\n",
      "/home/henning/anaconda3/envs/base_mldl/lib/python3.7/site-packages/tensorflow/python/framework/dtypes.py:530: FutureWarning: Passing (type, 1) or '1type' as a synonym of type is deprecated; in a future version of numpy, it will be understood as (type, (1,)) / '(1,)type'.\n",
      "  _np_qint32 = np.dtype([(\"qint32\", np.int32, 1)])\n",
      "/home/henning/anaconda3/envs/base_mldl/lib/python3.7/site-packages/tensorflow/python/framework/dtypes.py:535: FutureWarning: Passing (type, 1) or '1type' as a synonym of type is deprecated; in a future version of numpy, it will be understood as (type, (1,)) / '(1,)type'.\n",
      "  np_resource = np.dtype([(\"resource\", np.ubyte, 1)])\n"
     ]
    }
   ],
   "source": [
    "import numpy as np\n",
    "import matplotlib.pyplot as plt\n",
    "\n",
    "np.random.seed(0)\n",
    "\n",
    "from tensorflow.keras.models import Sequential\n",
    "from tensorflow.keras.layers import Dense, Flatten\n",
    "from tensorflow.keras.layers import Conv2D, MaxPooling2D\n",
    "from tensorflow.keras.utils import to_categorical"
   ]
  },
  {
   "cell_type": "markdown",
   "metadata": {},
   "source": [
    "# Simple CNN for Edgelovers"
   ]
  },
  {
   "cell_type": "markdown",
   "metadata": {},
   "source": [
    "## a) Generation of data"
   ]
  },
  {
   "cell_type": "code",
   "execution_count": 2,
   "metadata": {},
   "outputs": [],
   "source": [
    "def generate_data(xlen, ylen, n):\n",
    "    data = np.zeros(shape=(n, xlen, ylen, 1), dtype=np.uint8)\n",
    "    labels = np.zeros(shape=(n), dtype=np.int).squeeze()\n",
    "    \n",
    "    for i in range(n):\n",
    "        img = np.zeros(shape=(xlen, ylen, 1), dtype=np.uint8)\n",
    "        \n",
    "        v_or_h = np.random.randint(0, 2)\n",
    "        lines = 1\n",
    "        \n",
    "        if v_or_h: # horizontal\n",
    "            label = 0.0\n",
    "            for _ in range(lines):\n",
    "                y = np.random.randint(2, ylen - 2)\n",
    "                x1 = np.random.randint(2, xlen - 10)\n",
    "                x2 = x1 + 10\n",
    "                img[y, x1:x2] = 255.0\n",
    "        else:  # vertical\n",
    "            label = 1.0\n",
    "            for _ in range(lines):\n",
    "                x = np.random.randint(2, xlen - 2)\n",
    "                y1 = np.random.randint(2, ylen - 10)\n",
    "                y2 = y1 + 10\n",
    "                img[y1:y2, x] = 255.0\n",
    "        \n",
    "        data[i] = img.copy()\n",
    "        labels[i] = label\n",
    "    return data, labels.squeeze()"
   ]
  },
  {
   "cell_type": "code",
   "execution_count": 3,
   "metadata": {},
   "outputs": [],
   "source": [
    "x0, y0 = generate_data(50, 50, 10000)\n",
    "x2, y2 = generate_data(50, 50, 10000);"
   ]
  },
  {
   "cell_type": "code",
   "execution_count": 4,
   "metadata": {},
   "outputs": [
    {
     "name": "stdout",
     "output_type": "stream",
     "text": [
      "1\n"
     ]
    },
    {
     "data": {
      "image/png": "[encoded data removed]",
      "text/plain": [
       "<Figure size 432x288 with 1 Axes>"
      ]
     },
     "metadata": {
      "needs_background": "light"
     },
     "output_type": "display_data"
    }
   ],
   "source": [
    "img = x0[0, :, :, 0]\n",
    "plt.imshow(img)\n",
    "print(y0[0])"
   ]
  },
  {
   "cell_type": "markdown",
   "metadata": {},
   "source": [
    "## b) Build the simplest possible CNN"
   ]
  },
  {
   "cell_type": "code",
   "execution_count": 5,
   "metadata": {
    "scrolled": false
   },
   "outputs": [
    {
     "name": "stdout",
     "output_type": "stream",
     "text": [
      "WARNING:tensorflow:From /home/henning/anaconda3/envs/base_mldl/lib/python3.7/site-packages/tensorflow/python/ops/resource_variable_ops.py:435: colocate_with (from tensorflow.python.framework.ops) is deprecated and will be removed in a future version.\n",
      "Instructions for updating:\n",
      "Colocations handled automatically by placer.\n",
      "_________________________________________________________________\n",
      "Layer (type)                 Output Shape              Param #   \n",
      "=================================================================\n",
      "conv2d (Conv2D)              (None, 23, 23, 6)         156       \n",
      "_________________________________________________________________\n",
      "max_pooling2d (MaxPooling2D) (None, 11, 11, 6)         0         \n",
      "_________________________________________________________________\n",
      "flatten (Flatten)            (None, 726)               0         \n",
      "_________________________________________________________________\n",
      "dense (Dense)                (None, 1)                 727       \n",
      "=================================================================\n",
      "Total params: 883\n",
      "Trainable params: 883\n",
      "Non-trainable params: 0\n",
      "_________________________________________________________________\n"
     ]
    }
   ],
   "source": [
    "model = Sequential()\n",
    "model.add(Conv2D(6, kernel_size=5, strides=2, activation='relu', input_shape=(50, 50, 1)))\n",
    "model.add(MaxPooling2D(pool_size=2, strides=2))\n",
    "model.add(Flatten())\n",
    "model.add(Dense(1, activation='sigmoid'))\n",
    "model.compile(optimizer=\"adam\", loss='binary_crossentropy', metrics=['accuracy'])\n",
    "model.summary()"
   ]
  },
  {
   "cell_type": "code",
   "execution_count": 6,
   "metadata": {},
   "outputs": [
    {
     "name": "stdout",
     "output_type": "stream",
     "text": [
      "Train on 10000 samples, validate on 10000 samples\n",
      "WARNING:tensorflow:From /home/henning/anaconda3/envs/base_mldl/lib/python3.7/site-packages/tensorflow/python/ops/math_ops.py:3066: to_int32 (from tensorflow.python.ops.math_ops) is deprecated and will be removed in a future version.\n",
      "Instructions for updating:\n",
      "Use tf.cast instead.\n",
      "Epoch 1/25\n",
      "10000/10000 [==============================] - 2s 157us/sample - loss: 1.8154 - acc: 0.6252 - val_loss: 0.6727 - val_acc: 0.7652\n",
      "Epoch 2/25\n",
      "10000/10000 [==============================] - 1s 141us/sample - loss: 0.3029 - acc: 0.8844 - val_loss: 0.1047 - val_acc: 0.9536\n",
      "Epoch 3/25\n",
      "10000/10000 [==============================] - 1s 139us/sample - loss: 0.0606 - acc: 0.9738 - val_loss: 0.0444 - val_acc: 0.9781\n",
      "Epoch 4/25\n",
      "10000/10000 [==============================] - 1s 137us/sample - loss: 0.0354 - acc: 0.9800 - val_loss: 0.0321 - val_acc: 0.9832\n",
      "Epoch 5/25\n",
      "10000/10000 [==============================] - 1s 141us/sample - loss: 0.0276 - acc: 0.9843 - val_loss: 0.0264 - val_acc: 0.9870\n",
      "Epoch 6/25\n",
      "10000/10000 [==============================] - 1s 143us/sample - loss: 0.0235 - acc: 0.9867 - val_loss: 0.0229 - val_acc: 0.9873\n",
      "Epoch 7/25\n",
      "10000/10000 [==============================] - 1s 142us/sample - loss: 0.0211 - acc: 0.9872 - val_loss: 0.0207 - val_acc: 0.9884\n",
      "Epoch 8/25\n",
      "10000/10000 [==============================] - 1s 139us/sample - loss: 0.0195 - acc: 0.9880 - val_loss: 0.0191 - val_acc: 0.9892\n",
      "Epoch 9/25\n",
      "10000/10000 [==============================] - 1s 140us/sample - loss: 0.0184 - acc: 0.9881 - val_loss: 0.0181 - val_acc: 0.9892\n",
      "Epoch 10/25\n",
      "10000/10000 [==============================] - 1s 140us/sample - loss: 0.0177 - acc: 0.9882 - val_loss: 0.0174 - val_acc: 0.9897\n",
      "Epoch 11/25\n",
      "10000/10000 [==============================] - 1s 139us/sample - loss: 0.0171 - acc: 0.9884 - val_loss: 0.0168 - val_acc: 0.9897\n",
      "Epoch 12/25\n",
      "10000/10000 [==============================] - 1s 145us/sample - loss: 0.0168 - acc: 0.9885 - val_loss: 0.0164 - val_acc: 0.9899\n",
      "Epoch 13/25\n",
      "10000/10000 [==============================] - 1s 144us/sample - loss: 0.0165 - acc: 0.9889 - val_loss: 0.0161 - val_acc: 0.9899\n",
      "Epoch 14/25\n",
      "10000/10000 [==============================] - 1s 141us/sample - loss: 0.0162 - acc: 0.9888 - val_loss: 0.0156 - val_acc: 0.9900\n",
      "Epoch 15/25\n",
      "10000/10000 [==============================] - 1s 146us/sample - loss: 0.0157 - acc: 0.9889 - val_loss: 0.0153 - val_acc: 0.9900\n",
      "Epoch 16/25\n",
      "10000/10000 [==============================] - 1s 140us/sample - loss: 0.0156 - acc: 0.9889 - val_loss: 0.0152 - val_acc: 0.9900\n",
      "Epoch 17/25\n",
      "10000/10000 [==============================] - 1s 136us/sample - loss: 0.0154 - acc: 0.9889 - val_loss: 0.0151 - val_acc: 0.9900\n",
      "Epoch 18/25\n",
      "10000/10000 [==============================] - 1s 145us/sample - loss: 0.0153 - acc: 0.9889 - val_loss: 0.0150 - val_acc: 0.9900\n",
      "Epoch 19/25\n",
      "10000/10000 [==============================] - 1s 139us/sample - loss: 0.0152 - acc: 0.9889 - val_loss: 0.0149 - val_acc: 0.9900\n",
      "Epoch 20/25\n",
      "10000/10000 [==============================] - 1s 140us/sample - loss: 0.0152 - acc: 0.9889 - val_loss: 0.0149 - val_acc: 0.9900\n",
      "Epoch 21/25\n",
      "10000/10000 [==============================] - 1s 141us/sample - loss: 0.0152 - acc: 0.9889 - val_loss: 0.0148 - val_acc: 0.9900\n",
      "Epoch 22/25\n",
      "10000/10000 [==============================] - 1s 142us/sample - loss: 0.0151 - acc: 0.9889 - val_loss: 0.0148 - val_acc: 0.9900\n",
      "Epoch 23/25\n",
      "10000/10000 [==============================] - 1s 140us/sample - loss: 0.0151 - acc: 0.9889 - val_loss: 0.0148 - val_acc: 0.9900\n",
      "Epoch 24/25\n",
      "10000/10000 [==============================] - 1s 141us/sample - loss: 0.0151 - acc: 0.9889 - val_loss: 0.0147 - val_acc: 0.9900\n",
      "Epoch 25/25\n",
      "10000/10000 [==============================] - 1s 144us/sample - loss: 0.0151 - acc: 0.9889 - val_loss: 0.0147 - val_acc: 0.9900\n"
     ]
    }
   ],
   "source": [
    "model.fit(x0, y0, batch_size=128, epochs=25, validation_data=(x2, y2));"
   ]
  },
  {
   "cell_type": "code",
   "execution_count": 14,
   "metadata": {},
   "outputs": [
    {
     "name": "stdout",
     "output_type": "stream",
     "text": [
      "Loss train set: 0.015048485214897664\n",
      "Accuracy train set: 0.9889000058174133\n",
      "\n",
      "Loss validation set: 0.014723856045369757\n",
      "Accuracy validation set: 0.9900000095367432\n",
      "\n"
     ]
    }
   ],
   "source": [
    "score_train = model.evaluate(x0, y0, verbose=0)\n",
    "print(\"Loss train set: {}\".format(score_train[0]))\n",
    "print(\"Accuracy train set: {}\".format(score_train[1]))\n",
    "print()\n",
    "score_val = model.evaluate(x2, y2, verbose=0)\n",
    "print(\"Loss validation set: {}\".format(score_val[0]))\n",
    "print(\"Accuracy validation set: {}\".format(score_val[1]))\n",
    "print()"
   ]
  },
  {
   "cell_type": "markdown",
   "metadata": {},
   "source": [
    "## c) Visualize the learned kernel"
   ]
  },
  {
   "cell_type": "code",
   "execution_count": 21,
   "metadata": {},
   "outputs": [
    {
     "name": "stdout",
     "output_type": "stream",
     "text": [
      "[[ 75 123 104 171   3]\n",
      " [ 45  81  19 255  27]\n",
      " [ 14  75  81 165   0]\n",
      " [ 11  91  98 187 145]\n",
      " [179  60  91  74 204]]\n"
     ]
    },
    {
     "data": {
      "image/png": "[encoded data removed]",
      "text/plain": [
       "<Figure size 432x288 with 1 Axes>"
      ]
     },
     "metadata": {
      "needs_background": "light"
     },
     "output_type": "display_data"
    }
   ],
   "source": [
    "conv_layer = model.layers[0]\n",
    "filters, biases = conv_layer.get_weights()\n",
    "\n",
    "f = filters[:, :, 0, 0]\n",
    "f -= np.min(f)\n",
    "f = f * (255 / np.max(f))\n",
    "f = np.asarray(f, dtype=np.uint8)\n",
    "print(f)\n",
    "\n",
    "plt.imshow(f, cmap='gray');"
   ]
  },
  {
   "cell_type": "code",
   "execution_count": 9,
   "metadata": {},
   "outputs": [
    {
     "name": "stdout",
     "output_type": "stream",
     "text": [
      "[[ 56  27 254 171 242]\n",
      " [108 211 234   0 185]\n",
      " [156  85 214  73 210]\n",
      " [199 122  48 190 187]\n",
      " [222  80  62  75 201]]\n"
     ]
    },
    {
     "data": {
      "image/png": "[encoded data removed]",
      "text/plain": [
       "<Figure size 432x288 with 1 Axes>"
      ]
     },
     "metadata": {
      "needs_background": "light"
     },
     "output_type": "display_data"
    }
   ],
   "source": [
    "conv_layer = model.layers[0]\n",
    "filters, biases = conv_layer.get_weights()\n",
    "\n",
    "f = filters[:, :, 0, 1]\n",
    "f -= np.min(f)\n",
    "f = f * (255 / np.max(f))\n",
    "f = np.asarray(f, dtype=np.uint8)\n",
    "print(f)\n",
    "\n",
    "plt.imshow(f, cmap='gray');"
   ]
  },
  {
   "cell_type": "code",
   "execution_count": 22,
   "metadata": {},
   "outputs": [
    {
     "data": {
      "text/plain": [
       "<matplotlib.image.AxesImage at 0x7eff1441db10>"
      ]
     },
     "execution_count": 22,
     "metadata": {},
     "output_type": "execute_result"
    },
    {
     "data": {
      "image/png": "[encoded data removed]",
      "text/plain": [
       "<Figure size 432x288 with 1 Axes>"
      ]
     },
     "metadata": {
      "needs_background": "light"
     },
     "output_type": "display_data"
    }
   ],
   "source": [
    "from scipy import signal\n",
    "\n",
    "conv_layer = model.layers[0]\n",
    "filters, biases = conv_layer.get_weights()\n",
    "f = filters[:, :, 0, 0]\n",
    "index = np.where(y0 == 1)[0][0]\n",
    "img = x0[index, :, :, 0]\n",
    "grad = signal.convolve2d(img, f, boundary='symm', mode='same')\n",
    "plt.imshow(grad, cmap='gray')"
   ]
  },
  {
   "cell_type": "code",
   "execution_count": 23,
   "metadata": {},
   "outputs": [
    {
     "data": {
      "text/plain": [
       "<matplotlib.image.AxesImage at 0x7eff143f67d0>"
      ]
     },
     "execution_count": 23,
     "metadata": {},
     "output_type": "execute_result"
    },
    {
     "data": {
      "image/png": "[encoded data removed]",
      "text/plain": [
       "<Figure size 432x288 with 1 Axes>"
      ]
     },
     "metadata": {
      "needs_background": "light"
     },
     "output_type": "display_data"
    }
   ],
   "source": [
    "from scipy import signal\n",
    "\n",
    "conv_layer = model.layers[0]\n",
    "filters, biases = conv_layer.get_weights()\n",
    "f = filters[:, :, 0, 1]\n",
    "index = np.where(y0 == 1)[0][0]\n",
    "img = x0[index, :, :, 0]\n",
    "grad = signal.convolve2d(img, f, boundary='symm', mode='same')\n",
    "plt.imshow(grad, cmap='gray')"
   ]
  },
  {
   "cell_type": "code",
   "execution_count": 24,
   "metadata": {},
   "outputs": [
    {
     "data": {
      "text/plain": [
       "<matplotlib.image.AxesImage at 0x7eff1441d1d0>"
      ]
     },
     "execution_count": 24,
     "metadata": {},
     "output_type": "execute_result"
    },
    {
     "data": {
      "image/png": "[encoded data removed]",
      "text/plain": [
       "<Figure size 432x288 with 1 Axes>"
      ]
     },
     "metadata": {
      "needs_background": "light"
     },
     "output_type": "display_data"
    }
   ],
   "source": [
    "from scipy import signal\n",
    "\n",
    "conv_layer = model.layers[0]\n",
    "filters, biases = conv_layer.get_weights()\n",
    "f = filters[:, :, 0, 0]\n",
    "index = np.where(y0 == 0)[0][0]\n",
    "img = x0[index, :, :, 0]\n",
    "grad = signal.convolve2d(img, f, boundary='symm', mode='same')\n",
    "plt.imshow(grad, cmap='gray')"
   ]
  },
  {
   "cell_type": "code",
   "execution_count": 25,
   "metadata": {},
   "outputs": [
    {
     "data": {
      "text/plain": [
       "<matplotlib.image.AxesImage at 0x7eff14355fd0>"
      ]
     },
     "execution_count": 25,
     "metadata": {},
     "output_type": "execute_result"
    },
    {
     "data": {
      "image/png": "[encoded data removed]",
      "text/plain": [
       "<Figure size 432x288 with 1 Axes>"
      ]
     },
     "metadata": {
      "needs_background": "light"
     },
     "output_type": "display_data"
    }
   ],
   "source": [
    "from scipy import signal\n",
    "\n",
    "conv_layer = model.layers[0]\n",
    "filters, biases = conv_layer.get_weights()\n",
    "f = filters[:, :, 0, 1]\n",
    "index = np.where(y0 == 0)[0][0]\n",
    "img = x0[index, :, :, 0]\n",
    "grad = signal.convolve2d(img, f, boundary='symm', mode='same')\n",
    "plt.imshow(grad, cmap='gray')"
   ]
  },
  {
   "cell_type": "code",
   "execution_count": null,
   "metadata": {},
   "outputs": [],
   "source": []
  }
 ],
 "metadata": {
  "kernelspec": {
   "display_name": "Python 3",
   "language": "python",
   "name": "python3"
  },
  "language_info": {
   "codemirror_mode": {
    "name": "ipython",
    "version": 3
   },
   "file_extension": ".py",
   "mimetype": "text/x-python",
   "name": "python",
   "nbconvert_exporter": "python",
   "pygments_lexer": "ipython3",
   "version": "3.7.4"
  }
 },
 "nbformat": 4,
 "nbformat_minor": 2
}
