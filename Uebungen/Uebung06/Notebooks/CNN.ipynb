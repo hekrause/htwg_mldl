{
 "cells": [
  {
   "cell_type": "code",
   "execution_count": 64,
   "metadata": {},
   "outputs": [
    {
     "name": "stdout",
     "output_type": "stream",
     "text": [
      "Device mapping:\n",
      "/job:localhost/replica:0/task:0/device:XLA_CPU:0 -> device: XLA_CPU device\n",
      "/job:localhost/replica:0/task:0/device:GPU:0 -> device: 0, name: GeForce RTX 2060, pci bus id: 0000:01:00.0, compute capability: 7.5\n",
      "/job:localhost/replica:0/task:0/device:XLA_GPU:0 -> device: XLA_GPU device\n",
      "\n"
     ]
    }
   ],
   "source": [
    "import numpy as np\n",
    "import matplotlib.pyplot as plt\n",
    "from scipy import signal\n",
    "\n",
    "np.random.seed(0)\n",
    "\n",
    "import tensorflow as tf\n",
    "from tensorflow.keras.regularizers import l2\n",
    "from tensorflow.keras.models import Sequential\n",
    "from tensorflow.keras.layers import Dense, Flatten\n",
    "from tensorflow.keras.layers import Conv2D, MaxPooling2D, Dropout\n",
    "from tensorflow.keras.utils import to_categorical\n",
    "\n",
    "from tensorflow.compat.v1.keras.backend import set_session\n",
    "config = tf.compat.v1.ConfigProto()\n",
    "config.gpu_options.allow_growth = True\n",
    "config.log_device_placement = True\n",
    "sess = tf.compat.v1.Session(config=config)\n",
    "set_session(sess)"
   ]
  },
  {
   "cell_type": "markdown",
   "metadata": {},
   "source": [
    "# Simple CNN for Edgelovers"
   ]
  },
  {
   "cell_type": "markdown",
   "metadata": {},
   "source": [
    "## a) Generation of data"
   ]
  },
  {
   "cell_type": "code",
   "execution_count": 65,
   "metadata": {},
   "outputs": [],
   "source": [
    "def generate_data(xlen, ylen, n):\n",
    "    data = np.zeros(shape=(n, xlen, ylen, 1), dtype=np.uint8)\n",
    "    labels = np.zeros(shape=(n, 2), dtype=np.int).squeeze()\n",
    "    \n",
    "    for i in range(n):\n",
    "        img = np.random.random((xlen, ylen, 1)) * 128\n",
    "        \n",
    "        v_or_h = np.random.randint(0, 2)\n",
    "        lines = 10\n",
    "        \n",
    "        if v_or_h: # horizontal\n",
    "            label = [1.0, 0.0]\n",
    "            for _ in range(lines):\n",
    "                y = np.random.randint(2, ylen - 2)\n",
    "                x1 = np.random.randint(2, xlen - 10)\n",
    "                x2 = x1 + 10\n",
    "                img[y, x1:x2] = 255.0\n",
    "        else:  # vertical\n",
    "            label = [0.0, 1.0]\n",
    "            for _ in range(lines):\n",
    "                x = np.random.randint(2, xlen - 2)\n",
    "                y1 = np.random.randint(2, ylen - 10)\n",
    "                y2 = y1 + 10\n",
    "                img[y1:y2, x] = 255.0\n",
    "        \n",
    "        data[i] = img.copy()\n",
    "        labels[i] = label\n",
    "    return data, labels.squeeze()"
   ]
  },
  {
   "cell_type": "code",
   "execution_count": 66,
   "metadata": {},
   "outputs": [],
   "source": [
    "x0, y0 = generate_data(50, 50, 1000)\n",
    "x2, y2 = generate_data(50, 50, 1000);"
   ]
  },
  {
   "cell_type": "code",
   "execution_count": 67,
   "metadata": {},
   "outputs": [
    {
     "name": "stdout",
     "output_type": "stream",
     "text": [
      "Label: [1 0]\n"
     ]
    },
    {
     "data": {
      "image/png": "[encoded data removed]",
      "text/plain": [
       "<Figure size 432x288 with 1 Axes>"
      ]
     },
     "metadata": {
      "needs_background": "light"
     },
     "output_type": "display_data"
    }
   ],
   "source": [
    "img = x0[0, :, :, 0]\n",
    "plt.imshow(img, cmap='gray')\n",
    "print(\"Label: {}\".format(y0[0]))"
   ]
  },
  {
   "cell_type": "markdown",
   "metadata": {},
   "source": [
    "## b) Build the simplest possible CNN"
   ]
  },
  {
   "cell_type": "code",
   "execution_count": 68,
   "metadata": {
    "scrolled": false
   },
   "outputs": [
    {
     "name": "stdout",
     "output_type": "stream",
     "text": [
      "Model: \"sequential_21\"\n",
      "_________________________________________________________________\n",
      "Layer (type)                 Output Shape              Param #   \n",
      "=================================================================\n",
      "conv2d_21 (Conv2D)           (None, 23, 23, 1)         26        \n",
      "_________________________________________________________________\n",
      "max_pooling2d_21 (MaxPooling (None, 1, 1, 1)           0         \n",
      "_________________________________________________________________\n",
      "flatten_20 (Flatten)         (None, 1)                 0         \n",
      "_________________________________________________________________\n",
      "dense_20 (Dense)             (None, 2)                 4         \n",
      "=================================================================\n",
      "Total params: 30\n",
      "Trainable params: 30\n",
      "Non-trainable params: 0\n",
      "_________________________________________________________________\n"
     ]
    }
   ],
   "source": [
    "n_kernel = 1\n",
    "n_epochs = 250\n",
    "batch_size = 16\n",
    "lr = 0.1\n",
    "\n",
    "model = Sequential()\n",
    "model.add(Conv2D(n_kernel, kernel_size=5, strides=2, activation='relu', input_shape=(50, 50, 1), kernel_regularizer=l2(0.01), bias_regularizer=l2(0.01)))\n",
    "model.add(MaxPooling2D(pool_size=23, strides=23))\n",
    "model.add(Flatten())\n",
    "model.add(Dense(2, activation='sigmoid'))\n",
    "model.compile(optimizer=\"adam\", loss='binary_crossentropy', lr=lr, metrics=['accuracy'])\n",
    "model.summary()"
   ]
  },
  {
   "cell_type": "code",
   "execution_count": 69,
   "metadata": {
    "scrolled": true
   },
   "outputs": [
    {
     "name": "stdout",
     "output_type": "stream",
     "text": [
      "Train on 1000 samples, validate on 1000 samples\n",
      "Epoch 1/250\n",
      "1000/1000 [==============================] - 1s 950us/sample - loss: 1.4263 - accuracy: 0.5220 - val_loss: 0.7187 - val_accuracy: 0.5790\n",
      "Epoch 2/250\n",
      "1000/1000 [==============================] - 0s 290us/sample - loss: 0.6822 - accuracy: 0.6195 - val_loss: 0.6932 - val_accuracy: 0.5885\n",
      "Epoch 3/250\n",
      "1000/1000 [==============================] - 0s 289us/sample - loss: 0.6705 - accuracy: 0.6230 - val_loss: 0.6843 - val_accuracy: 0.5940\n",
      "Epoch 4/250\n",
      "1000/1000 [==============================] - 0s 288us/sample - loss: 0.6624 - accuracy: 0.6305 - val_loss: 0.6747 - val_accuracy: 0.6040\n",
      "Epoch 5/250\n",
      "1000/1000 [==============================] - 0s 280us/sample - loss: 0.6514 - accuracy: 0.6395 - val_loss: 0.6629 - val_accuracy: 0.6170\n",
      "Epoch 6/250\n",
      "1000/1000 [==============================] - 0s 303us/sample - loss: 0.6368 - accuracy: 0.6665 - val_loss: 0.6486 - val_accuracy: 0.6295\n",
      "Epoch 7/250\n",
      "1000/1000 [==============================] - 0s 323us/sample - loss: 0.6193 - accuracy: 0.6850 - val_loss: 0.6276 - val_accuracy: 0.6615\n",
      "Epoch 8/250\n",
      "1000/1000 [==============================] - 0s 288us/sample - loss: 0.5946 - accuracy: 0.7135 - val_loss: 0.6010 - val_accuracy: 0.6895\n",
      "Epoch 9/250\n",
      "1000/1000 [==============================] - 0s 300us/sample - loss: 0.5630 - accuracy: 0.7290 - val_loss: 0.5584 - val_accuracy: 0.7480\n",
      "Epoch 10/250\n",
      "1000/1000 [==============================] - 0s 303us/sample - loss: 0.5071 - accuracy: 0.7900 - val_loss: 0.4929 - val_accuracy: 0.7825\n",
      "Epoch 11/250\n",
      "1000/1000 [==============================] - 0s 297us/sample - loss: 0.4288 - accuracy: 0.8595 - val_loss: 0.4078 - val_accuracy: 0.8620\n",
      "Epoch 12/250\n",
      "1000/1000 [==============================] - 0s 298us/sample - loss: 0.3604 - accuracy: 0.9110 - val_loss: 0.3483 - val_accuracy: 0.9160\n",
      "Epoch 13/250\n",
      "1000/1000 [==============================] - 0s 302us/sample - loss: 0.3153 - accuracy: 0.9490 - val_loss: 0.3093 - val_accuracy: 0.9410\n",
      "Epoch 14/250\n",
      "1000/1000 [==============================] - 0s 302us/sample - loss: 0.2856 - accuracy: 0.9665 - val_loss: 0.2822 - val_accuracy: 0.9650\n",
      "Epoch 15/250\n",
      "1000/1000 [==============================] - 0s 305us/sample - loss: 0.2647 - accuracy: 0.9710 - val_loss: 0.2619 - val_accuracy: 0.9710\n",
      "Epoch 16/250\n",
      "1000/1000 [==============================] - 0s 301us/sample - loss: 0.2477 - accuracy: 0.9780 - val_loss: 0.2465 - val_accuracy: 0.9760\n",
      "Epoch 17/250\n",
      "1000/1000 [==============================] - 0s 308us/sample - loss: 0.2341 - accuracy: 0.9830 - val_loss: 0.2333 - val_accuracy: 0.9800\n",
      "Epoch 18/250\n",
      "1000/1000 [==============================] - 0s 305us/sample - loss: 0.2224 - accuracy: 0.9870 - val_loss: 0.2202 - val_accuracy: 0.9820\n",
      "Epoch 19/250\n",
      "1000/1000 [==============================] - 0s 307us/sample - loss: 0.2116 - accuracy: 0.9880 - val_loss: 0.2095 - val_accuracy: 0.9820\n",
      "Epoch 20/250\n",
      "1000/1000 [==============================] - 0s 309us/sample - loss: 0.2023 - accuracy: 0.9900 - val_loss: 0.2001 - val_accuracy: 0.9860\n",
      "Epoch 21/250\n",
      "1000/1000 [==============================] - 0s 287us/sample - loss: 0.1934 - accuracy: 0.9900 - val_loss: 0.1914 - val_accuracy: 0.9870\n",
      "Epoch 22/250\n",
      "1000/1000 [==============================] - 0s 306us/sample - loss: 0.1853 - accuracy: 0.9900 - val_loss: 0.1835 - val_accuracy: 0.9930\n",
      "Epoch 23/250\n",
      "1000/1000 [==============================] - 0s 305us/sample - loss: 0.1778 - accuracy: 0.9920 - val_loss: 0.1758 - val_accuracy: 0.9920\n",
      "Epoch 24/250\n",
      "1000/1000 [==============================] - 0s 300us/sample - loss: 0.1707 - accuracy: 0.9920 - val_loss: 0.1687 - val_accuracy: 0.9910\n",
      "Epoch 25/250\n",
      "1000/1000 [==============================] - 0s 295us/sample - loss: 0.1639 - accuracy: 0.9920 - val_loss: 0.1621 - val_accuracy: 0.9940\n",
      "Epoch 26/250\n",
      "1000/1000 [==============================] - 0s 309us/sample - loss: 0.1572 - accuracy: 0.9920 - val_loss: 0.1564 - val_accuracy: 0.9930\n",
      "Epoch 27/250\n",
      "1000/1000 [==============================] - 0s 292us/sample - loss: 0.1509 - accuracy: 0.9930 - val_loss: 0.1502 - val_accuracy: 0.9950\n",
      "Epoch 28/250\n",
      "1000/1000 [==============================] - 0s 294us/sample - loss: 0.1450 - accuracy: 0.9930 - val_loss: 0.1446 - val_accuracy: 0.9950\n",
      "Epoch 29/250\n",
      "1000/1000 [==============================] - 0s 307us/sample - loss: 0.1395 - accuracy: 0.9950 - val_loss: 0.1399 - val_accuracy: 0.9950\n",
      "Epoch 30/250\n",
      "1000/1000 [==============================] - 0s 302us/sample - loss: 0.1346 - accuracy: 0.9950 - val_loss: 0.1352 - val_accuracy: 0.9950\n",
      "Epoch 31/250\n",
      "1000/1000 [==============================] - 0s 310us/sample - loss: 0.1294 - accuracy: 0.9960 - val_loss: 0.1303 - val_accuracy: 0.9950\n",
      "Epoch 32/250\n",
      "1000/1000 [==============================] - 0s 300us/sample - loss: 0.1247 - accuracy: 0.9960 - val_loss: 0.1258 - val_accuracy: 0.9940\n",
      "Epoch 33/250\n",
      "1000/1000 [==============================] - 0s 298us/sample - loss: 0.1202 - accuracy: 0.9960 - val_loss: 0.1218 - val_accuracy: 0.9945\n",
      "Epoch 34/250\n",
      "1000/1000 [==============================] - 0s 303us/sample - loss: 0.1164 - accuracy: 0.9960 - val_loss: 0.1180 - val_accuracy: 0.9940\n",
      "Epoch 35/250\n",
      "1000/1000 [==============================] - 0s 305us/sample - loss: 0.1122 - accuracy: 0.9960 - val_loss: 0.1142 - val_accuracy: 0.9950\n",
      "Epoch 36/250\n",
      "1000/1000 [==============================] - 0s 303us/sample - loss: 0.1083 - accuracy: 0.9970 - val_loss: 0.1110 - val_accuracy: 0.9940\n",
      "Epoch 37/250\n",
      "1000/1000 [==============================] - 0s 300us/sample - loss: 0.1047 - accuracy: 0.9970 - val_loss: 0.1074 - val_accuracy: 0.9950\n",
      "Epoch 38/250\n",
      "1000/1000 [==============================] - 0s 305us/sample - loss: 0.1014 - accuracy: 0.9980 - val_loss: 0.1044 - val_accuracy: 0.9950\n",
      "Epoch 39/250\n",
      "1000/1000 [==============================] - 0s 305us/sample - loss: 0.0981 - accuracy: 0.9980 - val_loss: 0.1015 - val_accuracy: 0.9950\n",
      "Epoch 40/250\n",
      "1000/1000 [==============================] - 0s 307us/sample - loss: 0.0950 - accuracy: 0.9980 - val_loss: 0.0984 - val_accuracy: 0.9950\n",
      "Epoch 41/250\n",
      "1000/1000 [==============================] - 0s 303us/sample - loss: 0.0920 - accuracy: 0.9980 - val_loss: 0.0958 - val_accuracy: 0.9950\n",
      "Epoch 42/250\n",
      "1000/1000 [==============================] - 0s 302us/sample - loss: 0.0893 - accuracy: 0.9980 - val_loss: 0.0931 - val_accuracy: 0.9950\n",
      "Epoch 43/250\n",
      "1000/1000 [==============================] - 0s 311us/sample - loss: 0.0865 - accuracy: 0.9980 - val_loss: 0.0906 - val_accuracy: 0.9950\n",
      "Epoch 44/250\n",
      "1000/1000 [==============================] - 0s 306us/sample - loss: 0.0839 - accuracy: 0.9980 - val_loss: 0.0882 - val_accuracy: 0.9950\n",
      "Epoch 45/250\n",
      "1000/1000 [==============================] - 0s 306us/sample - loss: 0.0814 - accuracy: 0.9980 - val_loss: 0.0859 - val_accuracy: 0.9950\n",
      "Epoch 46/250\n",
      "1000/1000 [==============================] - 0s 310us/sample - loss: 0.0790 - accuracy: 0.9980 - val_loss: 0.0837 - val_accuracy: 0.9950\n",
      "Epoch 47/250\n",
      "1000/1000 [==============================] - 0s 303us/sample - loss: 0.0768 - accuracy: 0.9980 - val_loss: 0.0816 - val_accuracy: 0.9950\n",
      "Epoch 48/250\n",
      "1000/1000 [==============================] - 0s 302us/sample - loss: 0.0745 - accuracy: 0.9980 - val_loss: 0.0795 - val_accuracy: 0.9950\n",
      "Epoch 49/250\n",
      "1000/1000 [==============================] - 0s 307us/sample - loss: 0.0723 - accuracy: 0.9980 - val_loss: 0.0776 - val_accuracy: 0.9950\n",
      "Epoch 50/250\n",
      "1000/1000 [==============================] - 0s 312us/sample - loss: 0.0702 - accuracy: 0.9980 - val_loss: 0.0758 - val_accuracy: 0.9950\n",
      "Epoch 51/250\n",
      "1000/1000 [==============================] - 0s 298us/sample - loss: 0.0683 - accuracy: 0.9980 - val_loss: 0.0740 - val_accuracy: 0.9950\n",
      "Epoch 52/250\n",
      "1000/1000 [==============================] - 0s 294us/sample - loss: 0.0664 - accuracy: 0.9980 - val_loss: 0.0722 - val_accuracy: 0.9950\n",
      "Epoch 53/250\n",
      "1000/1000 [==============================] - 0s 310us/sample - loss: 0.0647 - accuracy: 0.9980 - val_loss: 0.0706 - val_accuracy: 0.9950\n",
      "Epoch 54/250\n",
      "1000/1000 [==============================] - 0s 310us/sample - loss: 0.0629 - accuracy: 0.9980 - val_loss: 0.0690 - val_accuracy: 0.9950\n",
      "Epoch 55/250\n"
     ]
    },
    {
     "name": "stdout",
     "output_type": "stream",
     "text": [
      "1000/1000 [==============================] - 0s 306us/sample - loss: 0.0613 - accuracy: 0.9980 - val_loss: 0.0674 - val_accuracy: 0.9950\n",
      "Epoch 56/250\n",
      "1000/1000 [==============================] - 0s 311us/sample - loss: 0.0596 - accuracy: 0.9980 - val_loss: 0.0659 - val_accuracy: 0.9950\n",
      "Epoch 57/250\n",
      "1000/1000 [==============================] - 0s 304us/sample - loss: 0.0581 - accuracy: 0.9980 - val_loss: 0.0645 - val_accuracy: 0.9950\n",
      "Epoch 58/250\n",
      "1000/1000 [==============================] - 0s 300us/sample - loss: 0.0566 - accuracy: 0.9980 - val_loss: 0.0631 - val_accuracy: 0.9950\n",
      "Epoch 59/250\n",
      "1000/1000 [==============================] - 0s 295us/sample - loss: 0.0551 - accuracy: 0.9980 - val_loss: 0.0619 - val_accuracy: 0.9950\n",
      "Epoch 60/250\n",
      "1000/1000 [==============================] - 0s 295us/sample - loss: 0.0538 - accuracy: 0.9980 - val_loss: 0.0605 - val_accuracy: 0.9950\n",
      "Epoch 61/250\n",
      "1000/1000 [==============================] - 0s 290us/sample - loss: 0.0524 - accuracy: 0.9980 - val_loss: 0.0593 - val_accuracy: 0.9950\n",
      "Epoch 62/250\n",
      "1000/1000 [==============================] - 0s 292us/sample - loss: 0.0512 - accuracy: 0.9980 - val_loss: 0.0580 - val_accuracy: 0.9950\n",
      "Epoch 63/250\n",
      "1000/1000 [==============================] - 0s 278us/sample - loss: 0.0499 - accuracy: 0.9980 - val_loss: 0.0566 - val_accuracy: 0.9950\n",
      "Epoch 64/250\n",
      "1000/1000 [==============================] - 0s 285us/sample - loss: 0.0487 - accuracy: 0.9980 - val_loss: 0.0555 - val_accuracy: 0.9950\n",
      "Epoch 65/250\n",
      "1000/1000 [==============================] - 0s 285us/sample - loss: 0.0475 - accuracy: 0.9980 - val_loss: 0.0543 - val_accuracy: 0.9950\n",
      "Epoch 66/250\n",
      "1000/1000 [==============================] - 0s 286us/sample - loss: 0.0464 - accuracy: 0.9980 - val_loss: 0.0532 - val_accuracy: 0.9950\n",
      "Epoch 67/250\n",
      "1000/1000 [==============================] - 0s 292us/sample - loss: 0.0453 - accuracy: 0.9980 - val_loss: 0.0521 - val_accuracy: 0.9950\n",
      "Epoch 68/250\n",
      "1000/1000 [==============================] - 0s 288us/sample - loss: 0.0443 - accuracy: 0.9980 - val_loss: 0.0511 - val_accuracy: 0.9950\n",
      "Epoch 69/250\n",
      "1000/1000 [==============================] - 0s 292us/sample - loss: 0.0432 - accuracy: 0.9980 - val_loss: 0.0501 - val_accuracy: 0.9950\n",
      "Epoch 70/250\n",
      "1000/1000 [==============================] - 0s 287us/sample - loss: 0.0422 - accuracy: 0.9980 - val_loss: 0.0491 - val_accuracy: 0.9950\n",
      "Epoch 71/250\n",
      "1000/1000 [==============================] - 0s 315us/sample - loss: 0.0412 - accuracy: 0.9980 - val_loss: 0.0482 - val_accuracy: 0.9950\n",
      "Epoch 72/250\n",
      "1000/1000 [==============================] - 0s 316us/sample - loss: 0.0403 - accuracy: 0.9980 - val_loss: 0.0474 - val_accuracy: 0.9950\n",
      "Epoch 73/250\n",
      "1000/1000 [==============================] - 0s 311us/sample - loss: 0.0394 - accuracy: 0.9980 - val_loss: 0.0465 - val_accuracy: 0.9960\n",
      "Epoch 74/250\n",
      "1000/1000 [==============================] - 0s 311us/sample - loss: 0.0385 - accuracy: 0.9980 - val_loss: 0.0456 - val_accuracy: 0.9950\n",
      "Epoch 75/250\n",
      "1000/1000 [==============================] - 0s 315us/sample - loss: 0.0377 - accuracy: 0.9980 - val_loss: 0.0448 - val_accuracy: 0.9960\n",
      "Epoch 76/250\n",
      "1000/1000 [==============================] - 0s 309us/sample - loss: 0.0369 - accuracy: 0.9980 - val_loss: 0.0441 - val_accuracy: 0.9960\n",
      "Epoch 77/250\n",
      "1000/1000 [==============================] - 0s 305us/sample - loss: 0.0361 - accuracy: 0.9980 - val_loss: 0.0435 - val_accuracy: 0.9950\n",
      "Epoch 78/250\n",
      "1000/1000 [==============================] - 0s 310us/sample - loss: 0.0353 - accuracy: 0.9980 - val_loss: 0.0426 - val_accuracy: 0.9960\n",
      "Epoch 79/250\n",
      "1000/1000 [==============================] - 0s 292us/sample - loss: 0.0346 - accuracy: 0.9980 - val_loss: 0.0423 - val_accuracy: 0.9960\n",
      "Epoch 80/250\n",
      "1000/1000 [==============================] - 0s 292us/sample - loss: 0.0339 - accuracy: 0.9980 - val_loss: 0.0414 - val_accuracy: 0.9950\n",
      "Epoch 81/250\n",
      "1000/1000 [==============================] - 0s 291us/sample - loss: 0.0332 - accuracy: 0.9980 - val_loss: 0.0406 - val_accuracy: 0.9960\n",
      "Epoch 82/250\n",
      "1000/1000 [==============================] - 0s 288us/sample - loss: 0.0326 - accuracy: 0.9980 - val_loss: 0.0401 - val_accuracy: 0.9960\n",
      "Epoch 83/250\n",
      "1000/1000 [==============================] - 0s 285us/sample - loss: 0.0319 - accuracy: 0.9980 - val_loss: 0.0395 - val_accuracy: 0.9960\n",
      "Epoch 84/250\n",
      "1000/1000 [==============================] - 0s 287us/sample - loss: 0.0313 - accuracy: 0.9980 - val_loss: 0.0389 - val_accuracy: 0.9960\n",
      "Epoch 85/250\n",
      "1000/1000 [==============================] - 0s 286us/sample - loss: 0.0307 - accuracy: 0.9980 - val_loss: 0.0384 - val_accuracy: 0.9960\n",
      "Epoch 86/250\n",
      "1000/1000 [==============================] - 0s 290us/sample - loss: 0.0301 - accuracy: 0.9980 - val_loss: 0.0379 - val_accuracy: 0.9960\n",
      "Epoch 87/250\n",
      "1000/1000 [==============================] - 0s 288us/sample - loss: 0.0295 - accuracy: 0.9980 - val_loss: 0.0375 - val_accuracy: 0.9960\n",
      "Epoch 88/250\n",
      "1000/1000 [==============================] - 0s 292us/sample - loss: 0.0290 - accuracy: 0.9980 - val_loss: 0.0369 - val_accuracy: 0.9960\n",
      "Epoch 89/250\n",
      "1000/1000 [==============================] - 0s 286us/sample - loss: 0.0284 - accuracy: 0.9980 - val_loss: 0.0364 - val_accuracy: 0.9960\n",
      "Epoch 90/250\n",
      "1000/1000 [==============================] - 0s 284us/sample - loss: 0.0279 - accuracy: 0.9980 - val_loss: 0.0360 - val_accuracy: 0.9960\n",
      "Epoch 91/250\n",
      "1000/1000 [==============================] - 0s 285us/sample - loss: 0.0274 - accuracy: 0.9980 - val_loss: 0.0353 - val_accuracy: 0.9960\n",
      "Epoch 92/250\n",
      "1000/1000 [==============================] - 0s 283us/sample - loss: 0.0270 - accuracy: 0.9980 - val_loss: 0.0340 - val_accuracy: 0.9960\n",
      "Epoch 93/250\n",
      "1000/1000 [==============================] - 0s 291us/sample - loss: 0.0265 - accuracy: 0.9980 - val_loss: 0.0340 - val_accuracy: 0.9960\n",
      "Epoch 94/250\n",
      "1000/1000 [==============================] - 0s 311us/sample - loss: 0.0260 - accuracy: 0.9980 - val_loss: 0.0320 - val_accuracy: 0.9960\n",
      "Epoch 95/250\n",
      "1000/1000 [==============================] - 0s 284us/sample - loss: 0.0257 - accuracy: 0.9980 - val_loss: 0.0316 - val_accuracy: 0.9960\n",
      "Epoch 96/250\n",
      "1000/1000 [==============================] - 0s 290us/sample - loss: 0.0252 - accuracy: 0.9980 - val_loss: 0.0318 - val_accuracy: 0.9960\n",
      "Epoch 97/250\n",
      "1000/1000 [==============================] - 0s 284us/sample - loss: 0.0248 - accuracy: 0.9980 - val_loss: 0.0299 - val_accuracy: 0.9960\n",
      "Epoch 98/250\n",
      "1000/1000 [==============================] - 0s 289us/sample - loss: 0.0244 - accuracy: 0.9980 - val_loss: 0.0291 - val_accuracy: 0.9960\n",
      "Epoch 99/250\n",
      "1000/1000 [==============================] - 0s 289us/sample - loss: 0.0240 - accuracy: 0.9980 - val_loss: 0.0301 - val_accuracy: 0.9950\n",
      "Epoch 100/250\n",
      "1000/1000 [==============================] - 0s 289us/sample - loss: 0.0236 - accuracy: 0.9980 - val_loss: 0.0303 - val_accuracy: 0.9950\n",
      "Epoch 101/250\n",
      "1000/1000 [==============================] - 0s 287us/sample - loss: 0.0233 - accuracy: 0.9980 - val_loss: 0.0286 - val_accuracy: 0.9950\n",
      "Epoch 102/250\n",
      "1000/1000 [==============================] - 0s 279us/sample - loss: 0.0230 - accuracy: 0.9980 - val_loss: 0.0278 - val_accuracy: 0.9950\n",
      "Epoch 103/250\n",
      "1000/1000 [==============================] - 0s 283us/sample - loss: 0.0226 - accuracy: 0.9980 - val_loss: 0.0272 - val_accuracy: 0.9950\n",
      "Epoch 104/250\n",
      "1000/1000 [==============================] - 0s 287us/sample - loss: 0.0223 - accuracy: 0.9980 - val_loss: 0.0276 - val_accuracy: 0.9950\n",
      "Epoch 105/250\n",
      "1000/1000 [==============================] - 0s 365us/sample - loss: 0.0220 - accuracy: 0.9980 - val_loss: 0.0257 - val_accuracy: 0.9960\n",
      "Epoch 106/250\n",
      "1000/1000 [==============================] - 0s 374us/sample - loss: 0.0217 - accuracy: 0.9980 - val_loss: 0.0259 - val_accuracy: 0.9950\n",
      "Epoch 107/250\n",
      "1000/1000 [==============================] - 0s 291us/sample - loss: 0.0214 - accuracy: 0.9980 - val_loss: 0.0263 - val_accuracy: 0.9950\n",
      "Epoch 108/250\n",
      "1000/1000 [==============================] - 0s 288us/sample - loss: 0.0212 - accuracy: 0.9980 - val_loss: 0.0247 - val_accuracy: 0.9950\n",
      "Epoch 109/250\n"
     ]
    },
    {
     "name": "stdout",
     "output_type": "stream",
     "text": [
      "1000/1000 [==============================] - 0s 292us/sample - loss: 0.0209 - accuracy: 0.9980 - val_loss: 0.0254 - val_accuracy: 0.9950\n",
      "Epoch 110/250\n",
      "1000/1000 [==============================] - 0s 321us/sample - loss: 0.0206 - accuracy: 0.9980 - val_loss: 0.0239 - val_accuracy: 0.9960\n",
      "Epoch 111/250\n",
      "1000/1000 [==============================] - 0s 314us/sample - loss: 0.0205 - accuracy: 0.9980 - val_loss: 0.0237 - val_accuracy: 0.9950\n",
      "Epoch 112/250\n",
      "1000/1000 [==============================] - 0s 310us/sample - loss: 0.0202 - accuracy: 0.9980 - val_loss: 0.0248 - val_accuracy: 0.9950\n",
      "Epoch 113/250\n",
      "1000/1000 [==============================] - 0s 306us/sample - loss: 0.0199 - accuracy: 0.9980 - val_loss: 0.0235 - val_accuracy: 0.9950\n",
      "Epoch 114/250\n",
      "1000/1000 [==============================] - 0s 305us/sample - loss: 0.0198 - accuracy: 0.9980 - val_loss: 0.0224 - val_accuracy: 0.9970\n",
      "Epoch 115/250\n",
      "1000/1000 [==============================] - 0s 303us/sample - loss: 0.0195 - accuracy: 0.9980 - val_loss: 0.0219 - val_accuracy: 0.9970\n",
      "Epoch 116/250\n",
      "1000/1000 [==============================] - 0s 308us/sample - loss: 0.0193 - accuracy: 0.9980 - val_loss: 0.0232 - val_accuracy: 0.9950\n",
      "Epoch 117/250\n",
      "1000/1000 [==============================] - 0s 288us/sample - loss: 0.0191 - accuracy: 0.9980 - val_loss: 0.0227 - val_accuracy: 0.9950\n",
      "Epoch 118/250\n",
      "1000/1000 [==============================] - 0s 286us/sample - loss: 0.0189 - accuracy: 0.9980 - val_loss: 0.0202 - val_accuracy: 0.9980\n",
      "Epoch 119/250\n",
      "1000/1000 [==============================] - 0s 321us/sample - loss: 0.0187 - accuracy: 0.9980 - val_loss: 0.0206 - val_accuracy: 0.9980\n",
      "Epoch 120/250\n",
      "1000/1000 [==============================] - 0s 287us/sample - loss: 0.0185 - accuracy: 0.9980 - val_loss: 0.0210 - val_accuracy: 0.9970\n",
      "Epoch 121/250\n",
      "1000/1000 [==============================] - 0s 286us/sample - loss: 0.0183 - accuracy: 0.9980 - val_loss: 0.0197 - val_accuracy: 0.9980\n",
      "Epoch 122/250\n",
      "1000/1000 [==============================] - 0s 292us/sample - loss: 0.0183 - accuracy: 0.9980 - val_loss: 0.0195 - val_accuracy: 0.9980\n",
      "Epoch 123/250\n",
      "1000/1000 [==============================] - 0s 296us/sample - loss: 0.0181 - accuracy: 0.9980 - val_loss: 0.0199 - val_accuracy: 0.9980\n",
      "Epoch 124/250\n",
      "1000/1000 [==============================] - 0s 287us/sample - loss: 0.0179 - accuracy: 0.9980 - val_loss: 0.0237 - val_accuracy: 0.9950\n",
      "Epoch 125/250\n",
      "1000/1000 [==============================] - 0s 292us/sample - loss: 0.0178 - accuracy: 0.9980 - val_loss: 0.0196 - val_accuracy: 0.9980\n",
      "Epoch 126/250\n",
      "1000/1000 [==============================] - 0s 288us/sample - loss: 0.0176 - accuracy: 0.9980 - val_loss: 0.0205 - val_accuracy: 0.9960\n",
      "Epoch 127/250\n",
      "1000/1000 [==============================] - 0s 289us/sample - loss: 0.0175 - accuracy: 0.9980 - val_loss: 0.0200 - val_accuracy: 0.9970\n",
      "Epoch 128/250\n",
      "1000/1000 [==============================] - 0s 295us/sample - loss: 0.0173 - accuracy: 0.9980 - val_loss: 0.0220 - val_accuracy: 0.9950\n",
      "Epoch 129/250\n",
      "1000/1000 [==============================] - 0s 289us/sample - loss: 0.0172 - accuracy: 0.9980 - val_loss: 0.0204 - val_accuracy: 0.9950\n",
      "Epoch 130/250\n",
      "1000/1000 [==============================] - 0s 292us/sample - loss: 0.0170 - accuracy: 0.9980 - val_loss: 0.0191 - val_accuracy: 0.9980\n",
      "Epoch 131/250\n",
      "1000/1000 [==============================] - 0s 291us/sample - loss: 0.0169 - accuracy: 0.9980 - val_loss: 0.0179 - val_accuracy: 0.9980\n",
      "Epoch 132/250\n",
      "1000/1000 [==============================] - 0s 292us/sample - loss: 0.0168 - accuracy: 0.9980 - val_loss: 0.0180 - val_accuracy: 0.9980\n",
      "Epoch 133/250\n",
      "1000/1000 [==============================] - 0s 285us/sample - loss: 0.0167 - accuracy: 0.9980 - val_loss: 0.0196 - val_accuracy: 0.9950\n",
      "Epoch 134/250\n",
      "1000/1000 [==============================] - 0s 284us/sample - loss: 0.0167 - accuracy: 0.9980 - val_loss: 0.0219 - val_accuracy: 0.9950\n",
      "Epoch 135/250\n",
      "1000/1000 [==============================] - 0s 287us/sample - loss: 0.0165 - accuracy: 0.9980 - val_loss: 0.0193 - val_accuracy: 0.9950\n",
      "Epoch 136/250\n",
      "1000/1000 [==============================] - 0s 297us/sample - loss: 0.0165 - accuracy: 0.9980 - val_loss: 0.0171 - val_accuracy: 0.9980\n",
      "Epoch 137/250\n",
      "1000/1000 [==============================] - 0s 300us/sample - loss: 0.0164 - accuracy: 0.9980 - val_loss: 0.0203 - val_accuracy: 0.9950\n",
      "Epoch 138/250\n",
      "1000/1000 [==============================] - 0s 313us/sample - loss: 0.0163 - accuracy: 0.9980 - val_loss: 0.0208 - val_accuracy: 0.9950\n",
      "Epoch 139/250\n",
      "1000/1000 [==============================] - 0s 308us/sample - loss: 0.0161 - accuracy: 0.9980 - val_loss: 0.0203 - val_accuracy: 0.9950\n",
      "Epoch 140/250\n",
      "1000/1000 [==============================] - 0s 309us/sample - loss: 0.0161 - accuracy: 0.9980 - val_loss: 0.0175 - val_accuracy: 0.9980\n",
      "Epoch 141/250\n",
      "1000/1000 [==============================] - 0s 301us/sample - loss: 0.0160 - accuracy: 0.9980 - val_loss: 0.0189 - val_accuracy: 0.9950\n",
      "Epoch 142/250\n",
      "1000/1000 [==============================] - 0s 309us/sample - loss: 0.0159 - accuracy: 0.9980 - val_loss: 0.0192 - val_accuracy: 0.9950\n",
      "Epoch 143/250\n",
      "1000/1000 [==============================] - 0s 306us/sample - loss: 0.0158 - accuracy: 0.9980 - val_loss: 0.0188 - val_accuracy: 0.9950\n",
      "Epoch 144/250\n",
      "1000/1000 [==============================] - 0s 306us/sample - loss: 0.0157 - accuracy: 0.9980 - val_loss: 0.0172 - val_accuracy: 0.9980\n",
      "Epoch 145/250\n",
      "1000/1000 [==============================] - 0s 312us/sample - loss: 0.0156 - accuracy: 0.9980 - val_loss: 0.0183 - val_accuracy: 0.9950\n",
      "Epoch 146/250\n",
      "1000/1000 [==============================] - 0s 310us/sample - loss: 0.0155 - accuracy: 0.9980 - val_loss: 0.0199 - val_accuracy: 0.9950\n",
      "Epoch 147/250\n",
      "1000/1000 [==============================] - 0s 309us/sample - loss: 0.0155 - accuracy: 0.9980 - val_loss: 0.0195 - val_accuracy: 0.9950\n",
      "Epoch 148/250\n",
      "1000/1000 [==============================] - 0s 309us/sample - loss: 0.0154 - accuracy: 0.9980 - val_loss: 0.0207 - val_accuracy: 0.9950\n",
      "Epoch 149/250\n",
      "1000/1000 [==============================] - 0s 307us/sample - loss: 0.0154 - accuracy: 0.9980 - val_loss: 0.0164 - val_accuracy: 0.9980\n",
      "Epoch 150/250\n",
      "1000/1000 [==============================] - 0s 306us/sample - loss: 0.0153 - accuracy: 0.9980 - val_loss: 0.0168 - val_accuracy: 0.9980\n",
      "Epoch 151/250\n",
      "1000/1000 [==============================] - 0s 302us/sample - loss: 0.0156 - accuracy: 0.9980 - val_loss: 0.0171 - val_accuracy: 0.9980\n",
      "Epoch 152/250\n",
      "1000/1000 [==============================] - 0s 304us/sample - loss: 0.0155 - accuracy: 0.9980 - val_loss: 0.0153 - val_accuracy: 0.9980\n",
      "Epoch 153/250\n",
      "1000/1000 [==============================] - 0s 311us/sample - loss: 0.0154 - accuracy: 0.9980 - val_loss: 0.0178 - val_accuracy: 0.9960\n",
      "Epoch 154/250\n",
      "1000/1000 [==============================] - 0s 287us/sample - loss: 0.0151 - accuracy: 0.9980 - val_loss: 0.0165 - val_accuracy: 0.9980\n",
      "Epoch 155/250\n",
      "1000/1000 [==============================] - 0s 287us/sample - loss: 0.0151 - accuracy: 0.9980 - val_loss: 0.0188 - val_accuracy: 0.9950\n",
      "Epoch 156/250\n",
      "1000/1000 [==============================] - 0s 285us/sample - loss: 0.0150 - accuracy: 0.9980 - val_loss: 0.0150 - val_accuracy: 0.9980\n",
      "Epoch 157/250\n",
      "1000/1000 [==============================] - 0s 277us/sample - loss: 0.0150 - accuracy: 0.9980 - val_loss: 0.0175 - val_accuracy: 0.9960\n",
      "Epoch 158/250\n",
      "1000/1000 [==============================] - 0s 306us/sample - loss: 0.0149 - accuracy: 0.9980 - val_loss: 0.0171 - val_accuracy: 0.9970\n",
      "Epoch 159/250\n",
      "1000/1000 [==============================] - 0s 311us/sample - loss: 0.0148 - accuracy: 0.9980 - val_loss: 0.0213 - val_accuracy: 0.9950\n",
      "Epoch 160/250\n",
      "1000/1000 [==============================] - 0s 301us/sample - loss: 0.0150 - accuracy: 0.9980 - val_loss: 0.0207 - val_accuracy: 0.9950\n",
      "Epoch 161/250\n",
      "1000/1000 [==============================] - 0s 308us/sample - loss: 0.0148 - accuracy: 0.9980 - val_loss: 0.0179 - val_accuracy: 0.9950\n",
      "Epoch 162/250\n",
      "1000/1000 [==============================] - 0s 312us/sample - loss: 0.0147 - accuracy: 0.9980 - val_loss: 0.0178 - val_accuracy: 0.9950\n",
      "Epoch 163/250\n"
     ]
    },
    {
     "name": "stdout",
     "output_type": "stream",
     "text": [
      "1000/1000 [==============================] - 0s 301us/sample - loss: 0.0148 - accuracy: 0.9980 - val_loss: 0.0159 - val_accuracy: 0.9980\n",
      "Epoch 164/250\n",
      "1000/1000 [==============================] - 0s 290us/sample - loss: 0.0147 - accuracy: 0.9980 - val_loss: 0.0225 - val_accuracy: 0.9950\n",
      "Epoch 165/250\n",
      "1000/1000 [==============================] - 0s 289us/sample - loss: 0.0148 - accuracy: 0.9980 - val_loss: 0.0202 - val_accuracy: 0.9950\n",
      "Epoch 166/250\n",
      "1000/1000 [==============================] - 0s 304us/sample - loss: 0.0145 - accuracy: 0.9980 - val_loss: 0.0191 - val_accuracy: 0.9950\n",
      "Epoch 167/250\n",
      "1000/1000 [==============================] - 0s 306us/sample - loss: 0.0145 - accuracy: 0.9980 - val_loss: 0.0155 - val_accuracy: 0.9980\n",
      "Epoch 168/250\n",
      "1000/1000 [==============================] - 0s 307us/sample - loss: 0.0145 - accuracy: 0.9980 - val_loss: 0.0189 - val_accuracy: 0.9950\n",
      "Epoch 169/250\n",
      "1000/1000 [==============================] - 0s 312us/sample - loss: 0.0146 - accuracy: 0.9980 - val_loss: 0.0201 - val_accuracy: 0.9950\n",
      "Epoch 170/250\n",
      "1000/1000 [==============================] - 0s 304us/sample - loss: 0.0144 - accuracy: 0.9980 - val_loss: 0.0175 - val_accuracy: 0.9950\n",
      "Epoch 171/250\n",
      "1000/1000 [==============================] - 0s 305us/sample - loss: 0.0144 - accuracy: 0.9980 - val_loss: 0.0161 - val_accuracy: 0.9980\n",
      "Epoch 172/250\n",
      "1000/1000 [==============================] - 0s 306us/sample - loss: 0.0143 - accuracy: 0.9980 - val_loss: 0.0205 - val_accuracy: 0.9950\n",
      "Epoch 173/250\n",
      "1000/1000 [==============================] - 0s 304us/sample - loss: 0.0143 - accuracy: 0.9980 - val_loss: 0.0159 - val_accuracy: 0.9980\n",
      "Epoch 174/250\n",
      "1000/1000 [==============================] - 0s 310us/sample - loss: 0.0145 - accuracy: 0.9980 - val_loss: 0.0139 - val_accuracy: 0.9980\n",
      "Epoch 175/250\n",
      "1000/1000 [==============================] - 0s 290us/sample - loss: 0.0144 - accuracy: 0.9980 - val_loss: 0.0282 - val_accuracy: 0.9940\n",
      "Epoch 176/250\n",
      "1000/1000 [==============================] - 0s 283us/sample - loss: 0.0143 - accuracy: 0.9980 - val_loss: 0.0167 - val_accuracy: 0.9970\n",
      "Epoch 177/250\n",
      "1000/1000 [==============================] - 0s 294us/sample - loss: 0.0143 - accuracy: 0.9980 - val_loss: 0.0216 - val_accuracy: 0.9950\n",
      "Epoch 178/250\n",
      "1000/1000 [==============================] - 0s 288us/sample - loss: 0.0143 - accuracy: 0.9980 - val_loss: 0.0167 - val_accuracy: 0.9970\n",
      "Epoch 179/250\n",
      "1000/1000 [==============================] - 0s 288us/sample - loss: 0.0142 - accuracy: 0.9980 - val_loss: 0.0171 - val_accuracy: 0.9950\n",
      "Epoch 180/250\n",
      "1000/1000 [==============================] - 0s 288us/sample - loss: 0.0142 - accuracy: 0.9980 - val_loss: 0.0174 - val_accuracy: 0.9950\n",
      "Epoch 181/250\n",
      "1000/1000 [==============================] - 0s 292us/sample - loss: 0.0142 - accuracy: 0.9980 - val_loss: 0.0164 - val_accuracy: 0.9970\n",
      "Epoch 182/250\n",
      "1000/1000 [==============================] - 0s 308us/sample - loss: 0.0142 - accuracy: 0.9980 - val_loss: 0.0159 - val_accuracy: 0.9980\n",
      "Epoch 183/250\n",
      "1000/1000 [==============================] - 0s 308us/sample - loss: 0.0142 - accuracy: 0.9980 - val_loss: 0.0261 - val_accuracy: 0.9950\n",
      "Epoch 184/250\n",
      "1000/1000 [==============================] - 0s 309us/sample - loss: 0.0143 - accuracy: 0.9980 - val_loss: 0.0267 - val_accuracy: 0.9950\n",
      "Epoch 185/250\n",
      "1000/1000 [==============================] - 0s 308us/sample - loss: 0.0143 - accuracy: 0.9980 - val_loss: 0.0163 - val_accuracy: 0.9970\n",
      "Epoch 186/250\n",
      "1000/1000 [==============================] - 0s 306us/sample - loss: 0.0141 - accuracy: 0.9980 - val_loss: 0.0238 - val_accuracy: 0.9950\n",
      "Epoch 187/250\n",
      "1000/1000 [==============================] - 0s 308us/sample - loss: 0.0140 - accuracy: 0.9980 - val_loss: 0.0193 - val_accuracy: 0.9950\n",
      "Epoch 188/250\n",
      "1000/1000 [==============================] - 0s 290us/sample - loss: 0.0140 - accuracy: 0.9980 - val_loss: 0.0168 - val_accuracy: 0.9960\n",
      "Epoch 189/250\n",
      "1000/1000 [==============================] - 0s 288us/sample - loss: 0.0140 - accuracy: 0.9980 - val_loss: 0.0191 - val_accuracy: 0.9950\n",
      "Epoch 190/250\n",
      "1000/1000 [==============================] - 0s 282us/sample - loss: 0.0140 - accuracy: 0.9980 - val_loss: 0.0215 - val_accuracy: 0.9950\n",
      "Epoch 191/250\n",
      "1000/1000 [==============================] - 0s 286us/sample - loss: 0.0139 - accuracy: 0.9980 - val_loss: 0.0152 - val_accuracy: 0.9980\n",
      "Epoch 192/250\n",
      "1000/1000 [==============================] - 0s 285us/sample - loss: 0.0141 - accuracy: 0.9980 - val_loss: 0.0162 - val_accuracy: 0.9970\n",
      "Epoch 193/250\n",
      "1000/1000 [==============================] - 0s 286us/sample - loss: 0.0139 - accuracy: 0.9980 - val_loss: 0.0160 - val_accuracy: 0.9980\n",
      "Epoch 194/250\n",
      "1000/1000 [==============================] - 0s 294us/sample - loss: 0.0139 - accuracy: 0.9980 - val_loss: 0.0176 - val_accuracy: 0.9950\n",
      "Epoch 195/250\n",
      "1000/1000 [==============================] - 0s 288us/sample - loss: 0.0138 - accuracy: 0.9980 - val_loss: 0.0150 - val_accuracy: 0.9980\n",
      "Epoch 196/250\n",
      "1000/1000 [==============================] - 0s 295us/sample - loss: 0.0141 - accuracy: 0.9980 - val_loss: 0.0167 - val_accuracy: 0.9960\n",
      "Epoch 197/250\n",
      "1000/1000 [==============================] - 0s 284us/sample - loss: 0.0145 - accuracy: 0.9980 - val_loss: 0.0152 - val_accuracy: 0.9980\n",
      "Epoch 198/250\n",
      "1000/1000 [==============================] - 0s 283us/sample - loss: 0.0177 - accuracy: 0.9970 - val_loss: 0.0146 - val_accuracy: 0.9970\n",
      "Epoch 199/250\n",
      "1000/1000 [==============================] - 0s 283us/sample - loss: 0.0141 - accuracy: 0.9980 - val_loss: 0.0193 - val_accuracy: 0.9970\n",
      "Epoch 200/250\n",
      "1000/1000 [==============================] - 0s 285us/sample - loss: 0.0141 - accuracy: 0.9980 - val_loss: 0.0194 - val_accuracy: 0.9970\n",
      "Epoch 201/250\n",
      "1000/1000 [==============================] - 0s 288us/sample - loss: 0.0141 - accuracy: 0.9980 - val_loss: 0.0195 - val_accuracy: 0.9970\n",
      "Epoch 202/250\n",
      "1000/1000 [==============================] - 0s 289us/sample - loss: 0.0140 - accuracy: 0.9980 - val_loss: 0.0190 - val_accuracy: 0.9970\n",
      "Epoch 203/250\n",
      "1000/1000 [==============================] - 0s 293us/sample - loss: 0.0140 - accuracy: 0.9980 - val_loss: 0.0194 - val_accuracy: 0.9970\n",
      "Epoch 204/250\n",
      "1000/1000 [==============================] - 0s 288us/sample - loss: 0.0139 - accuracy: 0.9980 - val_loss: 0.0196 - val_accuracy: 0.9970\n",
      "Epoch 205/250\n",
      "1000/1000 [==============================] - 0s 292us/sample - loss: 0.0139 - accuracy: 0.9980 - val_loss: 0.0186 - val_accuracy: 0.9970\n",
      "Epoch 206/250\n",
      "1000/1000 [==============================] - 0s 288us/sample - loss: 0.0139 - accuracy: 0.9980 - val_loss: 0.0187 - val_accuracy: 0.9970\n",
      "Epoch 207/250\n",
      "1000/1000 [==============================] - 0s 290us/sample - loss: 0.0139 - accuracy: 0.9980 - val_loss: 0.0185 - val_accuracy: 0.9970\n",
      "Epoch 208/250\n",
      "1000/1000 [==============================] - 0s 291us/sample - loss: 0.0139 - accuracy: 0.9980 - val_loss: 0.0182 - val_accuracy: 0.9970\n",
      "Epoch 209/250\n",
      "1000/1000 [==============================] - 0s 284us/sample - loss: 0.0139 - accuracy: 0.9980 - val_loss: 0.0180 - val_accuracy: 0.9970\n",
      "Epoch 210/250\n",
      "1000/1000 [==============================] - 0s 294us/sample - loss: 0.0138 - accuracy: 0.9980 - val_loss: 0.0181 - val_accuracy: 0.9970\n",
      "Epoch 211/250\n",
      "1000/1000 [==============================] - 0s 293us/sample - loss: 0.0138 - accuracy: 0.9980 - val_loss: 0.0187 - val_accuracy: 0.9970\n",
      "Epoch 212/250\n",
      "1000/1000 [==============================] - 0s 291us/sample - loss: 0.0138 - accuracy: 0.9980 - val_loss: 0.0178 - val_accuracy: 0.9970\n",
      "Epoch 213/250\n",
      "1000/1000 [==============================] - 0s 291us/sample - loss: 0.0138 - accuracy: 0.9980 - val_loss: 0.0171 - val_accuracy: 0.9970\n",
      "Epoch 214/250\n",
      "1000/1000 [==============================] - 0s 289us/sample - loss: 0.0138 - accuracy: 0.9980 - val_loss: 0.0172 - val_accuracy: 0.9970\n",
      "Epoch 215/250\n",
      "1000/1000 [==============================] - 0s 283us/sample - loss: 0.0137 - accuracy: 0.9980 - val_loss: 0.0161 - val_accuracy: 0.9970\n",
      "Epoch 216/250\n",
      "1000/1000 [==============================] - 0s 286us/sample - loss: 0.0137 - accuracy: 0.9980 - val_loss: 0.0171 - val_accuracy: 0.9970\n",
      "Epoch 217/250\n"
     ]
    },
    {
     "name": "stdout",
     "output_type": "stream",
     "text": [
      "1000/1000 [==============================] - 0s 283us/sample - loss: 0.0137 - accuracy: 0.9980 - val_loss: 0.0154 - val_accuracy: 0.9970\n",
      "Epoch 218/250\n",
      "1000/1000 [==============================] - 0s 280us/sample - loss: 0.0137 - accuracy: 0.9980 - val_loss: 0.0158 - val_accuracy: 0.9970\n",
      "Epoch 219/250\n",
      "1000/1000 [==============================] - 0s 284us/sample - loss: 0.0137 - accuracy: 0.9980 - val_loss: 0.0149 - val_accuracy: 0.9970\n",
      "Epoch 220/250\n",
      "1000/1000 [==============================] - 0s 279us/sample - loss: 0.0137 - accuracy: 0.9980 - val_loss: 0.0163 - val_accuracy: 0.9970\n",
      "Epoch 221/250\n",
      "1000/1000 [==============================] - 0s 281us/sample - loss: 0.0137 - accuracy: 0.9980 - val_loss: 0.0176 - val_accuracy: 0.9970\n",
      "Epoch 222/250\n",
      "1000/1000 [==============================] - 0s 284us/sample - loss: 0.0137 - accuracy: 0.9980 - val_loss: 0.0167 - val_accuracy: 0.9970\n",
      "Epoch 223/250\n",
      "1000/1000 [==============================] - 0s 279us/sample - loss: 0.0137 - accuracy: 0.9980 - val_loss: 0.0161 - val_accuracy: 0.9970\n",
      "Epoch 224/250\n",
      "1000/1000 [==============================] - 0s 275us/sample - loss: 0.0136 - accuracy: 0.9980 - val_loss: 0.0161 - val_accuracy: 0.9970\n",
      "Epoch 225/250\n",
      "1000/1000 [==============================] - 0s 285us/sample - loss: 0.0136 - accuracy: 0.9980 - val_loss: 0.0160 - val_accuracy: 0.9970\n",
      "Epoch 226/250\n",
      "1000/1000 [==============================] - 0s 280us/sample - loss: 0.0137 - accuracy: 0.9980 - val_loss: 0.0189 - val_accuracy: 0.9960\n",
      "Epoch 227/250\n",
      "1000/1000 [==============================] - 0s 282us/sample - loss: 0.0136 - accuracy: 0.9980 - val_loss: 0.0176 - val_accuracy: 0.9960\n",
      "Epoch 228/250\n",
      "1000/1000 [==============================] - 0s 278us/sample - loss: 0.0136 - accuracy: 0.9980 - val_loss: 0.0167 - val_accuracy: 0.9960\n",
      "Epoch 229/250\n",
      "1000/1000 [==============================] - 0s 281us/sample - loss: 0.0136 - accuracy: 0.9980 - val_loss: 0.0159 - val_accuracy: 0.9970\n",
      "Epoch 230/250\n",
      "1000/1000 [==============================] - 0s 288us/sample - loss: 0.0136 - accuracy: 0.9980 - val_loss: 0.0165 - val_accuracy: 0.9970\n",
      "Epoch 231/250\n",
      "1000/1000 [==============================] - 0s 298us/sample - loss: 0.0136 - accuracy: 0.9980 - val_loss: 0.0185 - val_accuracy: 0.9960\n",
      "Epoch 232/250\n",
      "1000/1000 [==============================] - 0s 281us/sample - loss: 0.0136 - accuracy: 0.9980 - val_loss: 0.0158 - val_accuracy: 0.9970\n",
      "Epoch 233/250\n",
      "1000/1000 [==============================] - 0s 280us/sample - loss: 0.0136 - accuracy: 0.9980 - val_loss: 0.0167 - val_accuracy: 0.9960\n",
      "Epoch 234/250\n",
      "1000/1000 [==============================] - 0s 274us/sample - loss: 0.0136 - accuracy: 0.9980 - val_loss: 0.0144 - val_accuracy: 0.9980\n",
      "Epoch 235/250\n",
      "1000/1000 [==============================] - 0s 278us/sample - loss: 0.0136 - accuracy: 0.9980 - val_loss: 0.0159 - val_accuracy: 0.9970\n",
      "Epoch 236/250\n",
      "1000/1000 [==============================] - 0s 289us/sample - loss: 0.0135 - accuracy: 0.9980 - val_loss: 0.0168 - val_accuracy: 0.9960\n",
      "Epoch 237/250\n",
      "1000/1000 [==============================] - 0s 275us/sample - loss: 0.0136 - accuracy: 0.9980 - val_loss: 0.0176 - val_accuracy: 0.9960\n",
      "Epoch 238/250\n",
      "1000/1000 [==============================] - 0s 287us/sample - loss: 0.0135 - accuracy: 0.9980 - val_loss: 0.0137 - val_accuracy: 0.9980\n",
      "Epoch 239/250\n",
      "1000/1000 [==============================] - 0s 316us/sample - loss: 0.0135 - accuracy: 0.9980 - val_loss: 0.0153 - val_accuracy: 0.9970\n",
      "Epoch 240/250\n",
      "1000/1000 [==============================] - 0s 286us/sample - loss: 0.0135 - accuracy: 0.9980 - val_loss: 0.0167 - val_accuracy: 0.9960\n",
      "Epoch 241/250\n",
      "1000/1000 [==============================] - 0s 277us/sample - loss: 0.0136 - accuracy: 0.9980 - val_loss: 0.0136 - val_accuracy: 0.9980\n",
      "Epoch 242/250\n",
      "1000/1000 [==============================] - 0s 277us/sample - loss: 0.0142 - accuracy: 0.9980 - val_loss: 0.0174 - val_accuracy: 0.9970\n",
      "Epoch 243/250\n",
      "1000/1000 [==============================] - 0s 281us/sample - loss: 0.0137 - accuracy: 0.9980 - val_loss: 0.0200 - val_accuracy: 0.9950\n",
      "Epoch 244/250\n",
      "1000/1000 [==============================] - 0s 278us/sample - loss: 0.0136 - accuracy: 0.9980 - val_loss: 0.0178 - val_accuracy: 0.9950\n",
      "Epoch 245/250\n",
      "1000/1000 [==============================] - 0s 301us/sample - loss: 0.0136 - accuracy: 0.9980 - val_loss: 0.0219 - val_accuracy: 0.9950\n",
      "Epoch 246/250\n",
      "1000/1000 [==============================] - 0s 317us/sample - loss: 0.0136 - accuracy: 0.9980 - val_loss: 0.0148 - val_accuracy: 0.9980\n",
      "Epoch 247/250\n",
      "1000/1000 [==============================] - 0s 324us/sample - loss: 0.0135 - accuracy: 0.9980 - val_loss: 0.0160 - val_accuracy: 0.9960\n",
      "Epoch 248/250\n",
      "1000/1000 [==============================] - 0s 306us/sample - loss: 0.0136 - accuracy: 0.9980 - val_loss: 0.0199 - val_accuracy: 0.9950\n",
      "Epoch 249/250\n",
      "1000/1000 [==============================] - 0s 310us/sample - loss: 0.0135 - accuracy: 0.9980 - val_loss: 0.0148 - val_accuracy: 0.9980\n",
      "Epoch 250/250\n",
      "1000/1000 [==============================] - 0s 308us/sample - loss: 0.0135 - accuracy: 0.9980 - val_loss: 0.0155 - val_accuracy: 0.9970\n"
     ]
    }
   ],
   "source": [
    "history = model.fit(x0, y0, batch_size=batch_size, epochs=n_epochs, validation_data=(x2, y2));"
   ]
  },
  {
   "cell_type": "code",
   "execution_count": 70,
   "metadata": {},
   "outputs": [
    {
     "name": "stdout",
     "output_type": "stream",
     "text": [
      "Loss train set: 0.013473922338336707\n",
      "Accuracy train set: 0.9980000257492065\n",
      "\n",
      "Loss validation set: 0.01545273719727993\n",
      "Accuracy validation set: 0.996999979019165\n",
      "\n"
     ]
    }
   ],
   "source": [
    "score_train = model.evaluate(x0, y0, verbose=0)\n",
    "print(\"Loss train set: {}\".format(score_train[0]))\n",
    "print(\"Accuracy train set: {}\".format(score_train[1]))\n",
    "print()\n",
    "score_val = model.evaluate(x2, y2, verbose=0)\n",
    "print(\"Loss validation set: {}\".format(score_val[0]))\n",
    "print(\"Accuracy validation set: {}\".format(score_val[1]))\n",
    "print()"
   ]
  },
  {
   "cell_type": "code",
   "execution_count": 71,
   "metadata": {},
   "outputs": [
    {
     "data": {
      "text/plain": [
       "<matplotlib.legend.Legend at 0x7fdde4192908>"
      ]
     },
     "execution_count": 71,
     "metadata": {},
     "output_type": "execute_result"
    },
    {
     "data": {
      "image/png": "[encoded data removed]",
      "text/plain": [
       "<Figure size 1440x1080 with 2 Axes>"
      ]
     },
     "metadata": {
      "needs_background": "light"
     },
     "output_type": "display_data"
    }
   ],
   "source": [
    "fig, axes = plt.subplots(nrows=2, ncols=1, figsize=(20, 15))\n",
    "\n",
    "axes[0].plot(history.history['accuracy'])\n",
    "axes[0].plot(history.history['val_accuracy'])\n",
    "axes[0].set_title('model accuracy')\n",
    "axes[0].set_ylabel('accuracy')\n",
    "axes[0].set_xlabel('epoch')\n",
    "axes[0].legend(['train', 'test'], loc='upper left')\n",
    "\n",
    "axes[1].plot(history.history['loss'])\n",
    "axes[1].plot(history.history['val_loss'])\n",
    "axes[1].set_title('model loss')\n",
    "axes[1].set_ylabel('loss')\n",
    "axes[1].set_xlabel('epoch')\n",
    "axes[1].legend(['train', 'test'], loc='upper left')"
   ]
  },
  {
   "cell_type": "markdown",
   "metadata": {},
   "source": [
    "## c) Visualize the learned kernel"
   ]
  },
  {
   "cell_type": "code",
   "execution_count": 72,
   "metadata": {},
   "outputs": [
    {
     "data": {
      "image/png": "[encoded data removed]",
      "text/plain": [
       "<Figure size 1080x720 with 1 Axes>"
      ]
     },
     "metadata": {
      "needs_background": "light"
     },
     "output_type": "display_data"
    }
   ],
   "source": [
    "conv_layer = model.layers[0]\n",
    "filters, biases = conv_layer.get_weights()\n",
    "\n",
    "nrows, ncols = 1, 1\n",
    "fig, axes = plt.subplots(nrows=nrows, ncols=ncols, figsize=(15, 10))\n",
    "f = filters[:, :, 0, 0]\n",
    "axes.imshow(f, cmap='gray');"
   ]
  },
  {
   "cell_type": "code",
   "execution_count": 73,
   "metadata": {},
   "outputs": [
    {
     "data": {
      "text/plain": [
       "<matplotlib.image.AxesImage at 0x7fdd6c0ef5f8>"
      ]
     },
     "execution_count": 73,
     "metadata": {},
     "output_type": "execute_result"
    },
    {
     "data": {
      "image/png": "[encoded data removed]",
      "text/plain": [
       "<Figure size 1080x720 with 1 Axes>"
      ]
     },
     "metadata": {
      "needs_background": "light"
     },
     "output_type": "display_data"
    }
   ],
   "source": [
    "conv_layer = model.layers[0]\n",
    "filters, biases = conv_layer.get_weights()\n",
    "\n",
    "nrows, ncols = 1, 1\n",
    "count = 0\n",
    "fig, axes = plt.subplots(nrows=nrows, ncols=ncols, figsize=(15, 10))\n",
    "f = filters[:, :, 0, 0]\n",
    "index = np.where(y0 == [0.0, 1.0])[0][0]\n",
    "img = x0[index, :, :, 0]\n",
    "grad = signal.convolve2d(img, f, boundary='symm', mode='same')\n",
    "axes.imshow(grad, cmap='gray')"
   ]
  },
  {
   "cell_type": "code",
   "execution_count": 74,
   "metadata": {},
   "outputs": [
    {
     "data": {
      "text/plain": [
       "<matplotlib.image.AxesImage at 0x7fde24042da0>"
      ]
     },
     "execution_count": 74,
     "metadata": {},
     "output_type": "execute_result"
    },
    {
     "data": {
      "image/png": "[encoded data removed]",
      "text/plain": [
       "<Figure size 1080x720 with 1 Axes>"
      ]
     },
     "metadata": {
      "needs_background": "light"
     },
     "output_type": "display_data"
    }
   ],
   "source": [
    "conv_layer = model.layers[0]\n",
    "filters, biases = conv_layer.get_weights()\n",
    "\n",
    "nrows, ncols = 1, 1\n",
    "count = 0\n",
    "fig, axes = plt.subplots(nrows=nrows, ncols=ncols, figsize=(15, 10))\n",
    "f = filters[:, :, 0, 0]\n",
    "index = np.where(y0 == [1.0, 0.0])[0][0]\n",
    "img = x0[index, :, :, 0]\n",
    "grad = signal.convolve2d(img, f, boundary='symm', mode='same')\n",
    "axes.imshow(grad, cmap='gray')"
   ]
  },
  {
   "cell_type": "code",
   "execution_count": null,
   "metadata": {},
   "outputs": [],
   "source": []
  }
 ],
 "metadata": {
  "kernelspec": {
   "display_name": "Python 3",
   "language": "python",
   "name": "python3"
  },
  "language_info": {
   "codemirror_mode": {
    "name": "ipython",
    "version": 3
   },
   "file_extension": ".py",
   "mimetype": "text/x-python",
   "name": "python",
   "nbconvert_exporter": "python",
   "pygments_lexer": "ipython3",
   "version": "3.6.10"
  }
 },
 "nbformat": 4,
 "nbformat_minor": 2
}
